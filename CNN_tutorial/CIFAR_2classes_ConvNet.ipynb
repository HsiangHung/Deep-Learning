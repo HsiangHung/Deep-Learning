{
 "cells": [
  {
   "cell_type": "markdown",
   "metadata": {},
   "source": [
    "# Convolutional Neural Network (CNN) on CIFAR-2 Class Data"
   ]
  },
  {
   "cell_type": "code",
   "execution_count": 1,
   "metadata": {
    "collapsed": false
   },
   "outputs": [
    {
     "name": "stderr",
     "output_type": "stream",
     "text": [
      "Using TensorFlow backend.\n"
     ]
    }
   ],
   "source": [
    "import pickle\n",
    "import numpy as np\n",
    "from keras.models import Sequential\n",
    "from keras.layers.core import Dense, Activation, Dropout, Flatten\n",
    "from keras.layers.convolutional import Convolution2D\n",
    "from keras.layers.pooling import MaxPooling2D\n",
    "from keras.optimizers import SGD\n",
    "from keras.constraints import maxnorm\n",
    "import matplotlib.pyplot as plt\n",
    "%matplotlib inline"
   ]
  },
  {
   "cell_type": "code",
   "execution_count": 24,
   "metadata": {
    "collapsed": false
   },
   "outputs": [
    {
     "name": "stdout",
     "output_type": "stream",
     "text": [
      "1.2.0\n"
     ]
    }
   ],
   "source": [
    "import keras\n",
    "print (keras.__version__)"
   ]
  },
  {
   "cell_type": "markdown",
   "metadata": {},
   "source": [
    "## CIFAR-2 Dataset"
   ]
  },
  {
   "cell_type": "code",
   "execution_count": 2,
   "metadata": {
    "collapsed": false
   },
   "outputs": [
    {
     "name": "stdout",
     "output_type": "stream",
     "text": [
      "Training data shape: (10000, 3, 32, 32)\n",
      "Training labels shape: (10000, 2)\n",
      "Test data shape: (2000, 3, 32, 32)\n",
      "Test labels shape: (2000, 2)\n"
     ]
    },
    {
     "data": {
      "text/plain": [
       "('airplane', 'cat')"
      ]
     },
     "execution_count": 2,
     "metadata": {},
     "output_type": "execute_result"
    }
   ],
   "source": [
    "train_data = pickle.load(open(\"CIFAR_2_train_data.pkl\", 'rb'))\n",
    "train_labels = pickle.load(open(\"CIFAR_2_train_labels.pkl\", 'rb'))\n",
    "test_data = pickle.load(open(\"CIFAR_2_test_data.pkl\", 'rb'))\n",
    "test_labels = pickle.load(open(\"CIFAR_2_test_labels.pkl\", 'rb'))\n",
    "print(\"Training data shape: {}\".format(train_data.shape))\n",
    "print(\"Training labels shape: {}\".format(train_labels.shape))\n",
    "print(\"Test data shape: {}\".format(test_data.shape))\n",
    "print(\"Test labels shape: {}\".format(test_labels.shape))\n",
    "label_dict = [\"airplane\", \"cat\"]\n",
    "label_dict[0], label_dict[1]"
   ]
  },
  {
   "cell_type": "code",
   "execution_count": 13,
   "metadata": {
    "collapsed": false
   },
   "outputs": [
    {
     "data": {
      "text/plain": [
       "numpy.ndarray"
      ]
     },
     "execution_count": 13,
     "metadata": {},
     "output_type": "execute_result"
    }
   ],
   "source": [
    "type(train_data)"
   ]
  },
  {
   "cell_type": "markdown",
   "metadata": {},
   "source": [
    "There are **10000** samples; each has **32 $\\times$ 32** pixels with **3** channels (green, red and ), and two labels: airplane or cat."
   ]
  },
  {
   "cell_type": "code",
   "execution_count": 5,
   "metadata": {
    "collapsed": false
   },
   "outputs": [
    {
     "data": {
      "text/plain": [
       "3"
      ]
     },
     "execution_count": 5,
     "metadata": {},
     "output_type": "execute_result"
    }
   ],
   "source": [
    "len(test_data[0])"
   ]
  },
  {
   "cell_type": "code",
   "execution_count": 5,
   "metadata": {
    "collapsed": false
   },
   "outputs": [
    {
     "data": {
      "text/plain": [
       "32"
      ]
     },
     "execution_count": 5,
     "metadata": {},
     "output_type": "execute_result"
    }
   ],
   "source": [
    "len(test_data[0][0])"
   ]
  },
  {
   "cell_type": "code",
   "execution_count": 3,
   "metadata": {
    "collapsed": false
   },
   "outputs": [
    {
     "name": "stdout",
     "output_type": "stream",
     "text": [
      "[[[255 255 255 ..., 226 224 223]\n",
      "  [253 254 255 ..., 225 224 223]\n",
      "  [253 255 255 ..., 228 227 225]\n",
      "  ..., \n",
      "  [167 168 169 ..., 106 106 108]\n",
      "  [131 115 128 ...,  90  92  96]\n",
      "  [121  99 112 ...,  98  99 101]]\n",
      "\n",
      " [[255 255 255 ..., 227 225 223]\n",
      "  [253 254 255 ..., 226 224 223]\n",
      "  [253 255 255 ..., 229 227 225]\n",
      "  ..., \n",
      "  [168 169 170 ..., 101 101 103]\n",
      "  [122 106 119 ...,  84  86  90]\n",
      "  [116  95 107 ...,  90  90  92]]\n",
      "\n",
      " [[255 255 255 ..., 222 222 221]\n",
      "  [253 254 255 ..., 221 222 221]\n",
      "  [253 255 255 ..., 224 224 223]\n",
      "  ..., \n",
      "  [171 171 173 ...,  75  74  75]\n",
      "  [101  85  98 ...,  52  56  60]\n",
      "  [ 94  73  85 ...,  56  58  61]]]\n"
     ]
    }
   ],
   "source": [
    "print (test_data[0])"
   ]
  },
  {
   "cell_type": "code",
   "execution_count": 4,
   "metadata": {
    "collapsed": true
   },
   "outputs": [],
   "source": [
    "def plotExamples(data, labels, label_dict):\n",
    "    plt.figure(figsize=(8,5))\n",
    "    for i in range(8):\n",
    "        sub = 241 + i\n",
    "        ax = plt.subplot(sub)\n",
    "        index = np.random.randint(0, data.shape[0])\n",
    "        label_int = np.argmax(labels[index])\n",
    "        ax.set_title(label_dict[label_int])\n",
    "        im = data[index]\n",
    "        im = np.transpose(im, (1, 2, 0))\n",
    "        plt.imshow(im)\n",
    "    plt.show()"
   ]
  },
  {
   "cell_type": "code",
   "execution_count": 5,
   "metadata": {
    "collapsed": false
   },
   "outputs": [
    {
     "data": {
      "image/png": "[encoded data removed]",
      "text/plain": [
       "<matplotlib.figure.Figure at 0x104942c18>"
      ]
     },
     "metadata": {},
     "output_type": "display_data"
    }
   ],
   "source": [
    "plotExamples(train_data, train_labels, label_dict)"
   ]
  },
  {
   "cell_type": "code",
   "execution_count": 32,
   "metadata": {
    "collapsed": false
   },
   "outputs": [
    {
     "data": {
      "image/png": "[encoded data removed]",
      "text/plain": [
       "<matplotlib.figure.Figure at 0x1150a5e10>"
      ]
     },
     "metadata": {},
     "output_type": "display_data"
    }
   ],
   "source": [
    "plotExamples(test_data, test_labels, label_dict)"
   ]
  },
  {
   "cell_type": "markdown",
   "metadata": {},
   "source": [
    "## Keras Parameter Setup\n",
    "\n",
    "### 1. Image dim ordering\n",
    "\n",
    "The image dim ordering is sensitive in Keras. Suppose the input image dim is 32x32x3 (3 channels), and consider 64 3x3 filters in the convolutional layer. If we just naively follow [Keras instruction](https://keras.io/layers/convolutional/#convolution2d) to build a network, we will have an indication like this:"
   ]
  },
  {
   "cell_type": "code",
   "execution_count": 43,
   "metadata": {
    "collapsed": false
   },
   "outputs": [
    {
     "name": "stdout",
     "output_type": "stream",
     "text": [
      "____________________________________________________________________________________________________\n",
      "Layer (type)                     Output Shape          Param #     Connected to                     \n",
      "====================================================================================================\n",
      "convolution2d_75 (Convolution2D) (None, 3, 32, 64)     18496       convolution2d_input_32[0][0]     \n",
      "====================================================================================================\n",
      "Total params: 18,496\n",
      "Trainable params: 18,496\n",
      "Non-trainable params: 0\n",
      "____________________________________________________________________________________________________\n"
     ]
    }
   ],
   "source": [
    "model = Sequential()\n",
    "model.add(Convolution2D(64, 3, 3, border_mode='same', input_shape=(3, 32, 32)))\n",
    "model.summary()"
   ]
  },
  {
   "cell_type": "markdown",
   "metadata": {},
   "source": [
    "After the convolutional layer, we expect the output dim is 32x32x64, but now the output dimension is still 64x32x3. The number of parameters is also not correct. Using **dim_ordering ='th'** in constructing models, we have"
   ]
  },
  {
   "cell_type": "code",
   "execution_count": 44,
   "metadata": {
    "collapsed": false
   },
   "outputs": [
    {
     "name": "stdout",
     "output_type": "stream",
     "text": [
      "____________________________________________________________________________________________________\n",
      "Layer (type)                     Output Shape          Param #     Connected to                     \n",
      "====================================================================================================\n",
      "convolution2d_76 (Convolution2D) (None, 64, 32, 32)    1792        convolution2d_input_33[0][0]     \n",
      "====================================================================================================\n",
      "Total params: 1,792\n",
      "Trainable params: 1,792\n",
      "Non-trainable params: 0\n",
      "____________________________________________________________________________________________________\n"
     ]
    }
   ],
   "source": [
    "model = Sequential()\n",
    "model.add(Convolution2D(64, 3, 3, border_mode='same', input_shape=(3, 32, 32), dim_ordering ='th'))\n",
    "model.summary()"
   ]
  },
  {
   "cell_type": "markdown",
   "metadata": {},
   "source": [
    "Now the output dim is 32x32x32 and the number of parameters is 896 = 3x3x3x32 + 32. In tensorflow, the input dim convention is 32x32x3. But in theano, it is 3x32x32, and keep in mind that we are using tensorflow as beackend now.\n",
    "Or, we can build the network obeying the tensorflow convention:"
   ]
  },
  {
   "cell_type": "code",
   "execution_count": 45,
   "metadata": {
    "collapsed": false
   },
   "outputs": [
    {
     "name": "stdout",
     "output_type": "stream",
     "text": [
      "____________________________________________________________________________________________________\n",
      "Layer (type)                     Output Shape          Param #     Connected to                     \n",
      "====================================================================================================\n",
      "convolution2d_77 (Convolution2D) (None, 32, 32, 64)    1792        convolution2d_input_34[0][0]     \n",
      "====================================================================================================\n",
      "Total params: 1,792\n",
      "Trainable params: 1,792\n",
      "Non-trainable params: 0\n",
      "____________________________________________________________________________________________________\n"
     ]
    }
   ],
   "source": [
    "model = Sequential()\n",
    "model.add(Convolution2D(64, 3, 3, border_mode='same', input_shape=(32, 32, 3)))\n",
    "model.summary()"
   ]
  },
  {
   "cell_type": "markdown",
   "metadata": {},
   "source": [
    "Now it is also consistent. Another way is to revise the file: **~/.keras/keras.json**,  change **\"image_dim_ordering\":\"tf\"** $\\to$ **\"image_dim_ordering\": \"th\"**.\n",
    "\n",
    "### 2. Zero-Padding\n",
    "\n",
    "**border_mode = 'same'** is to make the input and output have the same length and width. Without it, we will have the model"
   ]
  },
  {
   "cell_type": "code",
   "execution_count": 8,
   "metadata": {
    "collapsed": false
   },
   "outputs": [
    {
     "name": "stdout",
     "output_type": "stream",
     "text": [
      "____________________________________________________________________________________________________\n",
      "Layer (type)                     Output Shape          Param #     Connected to                     \n",
      "====================================================================================================\n",
      "convolution2d_7 (Convolution2D)  (None, 32, 30, 30)    896         convolution2d_input_6[0][0]      \n",
      "====================================================================================================\n",
      "Total params: 896\n",
      "Trainable params: 896\n",
      "Non-trainable params: 0\n",
      "____________________________________________________________________________________________________\n"
     ]
    }
   ],
   "source": [
    "model = Sequential()\n",
    "model.add(Convolution2D(32, 3, 3, input_shape=(3, 32, 32), dim_ordering ='th'))\n",
    "model.summary()"
   ]
  },
  {
   "cell_type": "code",
   "execution_count": null,
   "metadata": {
    "collapsed": true
   },
   "outputs": [],
   "source": []
  },
  {
   "cell_type": "markdown",
   "metadata": {},
   "source": [
    "## Convolutional Network Architecture"
   ]
  },
  {
   "cell_type": "code",
   "execution_count": 26,
   "metadata": {
    "collapsed": false
   },
   "outputs": [
    {
     "name": "stdout",
     "output_type": "stream",
     "text": [
      "____________________________________________________________________________________________________\n",
      "Layer (type)                     Output Shape          Param #     Connected to                     \n",
      "====================================================================================================\n",
      "convolution2d_48 (Convolution2D) (None, 32, 32, 32)    896         convolution2d_input_22[0][0]     \n",
      "____________________________________________________________________________________________________\n",
      "convolution2d_49 (Convolution2D) (None, 64, 32, 32)    18496       convolution2d_48[0][0]           \n",
      "____________________________________________________________________________________________________\n",
      "maxpooling2d_21 (MaxPooling2D)   (None, 64, 16, 16)    0           convolution2d_49[0][0]           \n",
      "____________________________________________________________________________________________________\n",
      "flatten_15 (Flatten)             (None, 16384)         0           maxpooling2d_21[0][0]            \n",
      "____________________________________________________________________________________________________\n",
      "dense_26 (Dense)                 (None, 2)             32770       flatten_15[0][0]                 \n",
      "====================================================================================================\n",
      "Total params: 52,162\n",
      "Trainable params: 52,162\n",
      "Non-trainable params: 0\n",
      "____________________________________________________________________________________________________\n"
     ]
    }
   ],
   "source": [
    "model = Sequential()\n",
    "model.add(Convolution2D(32, 3, 3, border_mode='same', input_shape=(3, 32, 32), init='lecun_uniform', dim_ordering ='th'))\n",
    "model.add(Convolution2D(64, 3, 3, border_mode='same', init='lecun_uniform', dim_ordering ='th'))\n",
    "model.add(MaxPooling2D((2,2), dim_ordering ='th'))\n",
    "model.add(Flatten())\n",
    "model.add(Dense(2, activation='softmax', init='lecun_uniform'))\n",
    "model.summary()"
   ]
  },
  {
   "cell_type": "markdown",
   "metadata": {},
   "source": [
    "### Structure explanation:\n",
    "* Input images: (32x32)x3.\n",
    "* Convolution using 32 3x3 filters: $\\to$ (32x32)x32, parameters needed (32 biased): (3x3x3)x32+32 = 896.\n",
    "* Convolution using 64 3x3 filters: $\\to$ (32x32)x64, parameters needed (64 biased): (3x3x32)x64+64 = 18496.\n",
    "* Max 2x2 pooling: $\\to$ (16x16)x64.\n",
    "* Now input dimension is 16x16x64 = 16384 and perform fully connected network.\n",
    "* Binary classification, so output is 2-dimensional, parameters needed: 16384x2+2 = 32770.\n",
    "\n",
    "### Training the network"
   ]
  },
  {
   "cell_type": "code",
   "execution_count": 27,
   "metadata": {
    "collapsed": false
   },
   "outputs": [
    {
     "name": "stdout",
     "output_type": "stream",
     "text": [
      "Train on 8000 samples, validate on 2000 samples\n",
      "Epoch 1/10\n",
      "8000/8000 [==============================] - 134s - loss: 5.8075 - acc: 0.6101 - val_loss: 3.4194 - val_acc: 0.7615\n",
      "Epoch 2/10\n",
      "8000/8000 [==============================] - 129s - loss: 3.5785 - acc: 0.7571 - val_loss: 2.6026 - val_acc: 0.8185\n",
      "Epoch 3/10\n",
      "8000/8000 [==============================] - 129s - loss: 2.9374 - acc: 0.7979 - val_loss: 2.6299 - val_acc: 0.8175\n",
      "Epoch 4/10\n",
      "8000/8000 [==============================] - 127s - loss: 2.8699 - acc: 0.8026 - val_loss: 2.3568 - val_acc: 0.8335\n",
      "Epoch 5/10\n",
      "8000/8000 [==============================] - 127s - loss: 2.5700 - acc: 0.8220 - val_loss: 2.3599 - val_acc: 0.8345\n",
      "Epoch 6/10\n",
      "8000/8000 [==============================] - 127s - loss: 2.5164 - acc: 0.8244 - val_loss: 2.2250 - val_acc: 0.8430\n",
      "Epoch 7/10\n",
      "8000/8000 [==============================] - 127s - loss: 2.3446 - acc: 0.8355 - val_loss: 2.1940 - val_acc: 0.8465\n",
      "Epoch 8/10\n",
      "8000/8000 [==============================] - 126s - loss: 2.3291 - acc: 0.8375 - val_loss: 2.8180 - val_acc: 0.8080\n",
      "Epoch 9/10\n",
      "8000/8000 [==============================] - 126s - loss: 2.5170 - acc: 0.8251 - val_loss: 2.5171 - val_acc: 0.8265\n",
      "Epoch 10/10\n",
      "8000/8000 [==============================] - 126s - loss: 2.3397 - acc: 0.8371 - val_loss: 2.1406 - val_acc: 0.8460\n"
     ]
    },
    {
     "data": {
      "text/plain": [
       "<keras.callbacks.History at 0x11b465c50>"
      ]
     },
     "execution_count": 27,
     "metadata": {},
     "output_type": "execute_result"
    }
   ],
   "source": [
    "sgd = SGD(lr=0.000001, momentum=0.9, decay=0, nesterov=False)\n",
    "model.compile(optimizer=sgd, loss='categorical_crossentropy', metrics=['accuracy'])\n",
    "model.fit(train_data, train_labels, batch_size=128, nb_epoch=10, validation_split=0.2)"
   ]
  },
  {
   "cell_type": "markdown",
   "metadata": {},
   "source": [
    "### Testing "
   ]
  },
  {
   "cell_type": "code",
   "execution_count": 29,
   "metadata": {
    "collapsed": false
   },
   "outputs": [
    {
     "name": "stdout",
     "output_type": "stream",
     "text": [
      "2000/2000 [==============================] - 15s    \n",
      "  Loss:  2.2949956665  , acc: 0.837\n"
     ]
    }
   ],
   "source": [
    "scores = model.evaluate(test_data, test_labels);\n",
    "print('  Loss: ', scores[0], ' , acc:', scores[1])"
   ]
  },
  {
   "cell_type": "markdown",
   "metadata": {},
   "source": [
    "## Other Network Architecture Examples\n",
    "\n",
    "The above network only consider a **single** layer for the fully connected neural network. Now we can further add another layer with 1024 neruons and relu activation function:"
   ]
  },
  {
   "cell_type": "code",
   "execution_count": 30,
   "metadata": {
    "collapsed": false
   },
   "outputs": [
    {
     "name": "stdout",
     "output_type": "stream",
     "text": [
      "____________________________________________________________________________________________________\n",
      "Layer (type)                     Output Shape          Param #     Connected to                     \n",
      "====================================================================================================\n",
      "convolution2d_50 (Convolution2D) (None, 32, 32, 32)    896         convolution2d_input_23[0][0]     \n",
      "____________________________________________________________________________________________________\n",
      "convolution2d_51 (Convolution2D) (None, 64, 32, 32)    18496       convolution2d_50[0][0]           \n",
      "____________________________________________________________________________________________________\n",
      "maxpooling2d_22 (MaxPooling2D)   (None, 64, 16, 16)    0           convolution2d_51[0][0]           \n",
      "____________________________________________________________________________________________________\n",
      "flatten_16 (Flatten)             (None, 16384)         0           maxpooling2d_22[0][0]            \n",
      "____________________________________________________________________________________________________\n",
      "dense_27 (Dense)                 (None, 1024)          16778240    flatten_16[0][0]                 \n",
      "____________________________________________________________________________________________________\n",
      "dense_28 (Dense)                 (None, 2)             2050        dense_27[0][0]                   \n",
      "====================================================================================================\n",
      "Total params: 16,799,682\n",
      "Trainable params: 16,799,682\n",
      "Non-trainable params: 0\n",
      "____________________________________________________________________________________________________\n",
      "Train on 8000 samples, validate on 2000 samples\n",
      "Epoch 1/10\n",
      "8000/8000 [==============================] - 156s - loss: 4.0617 - acc: 0.7084 - val_loss: 2.6259 - val_acc: 0.8105\n",
      "Epoch 2/10\n",
      "8000/8000 [==============================] - 154s - loss: 3.1407 - acc: 0.7835 - val_loss: 3.4347 - val_acc: 0.7705\n",
      "Epoch 3/10\n",
      "8000/8000 [==============================] - 154s - loss: 2.5634 - acc: 0.8184 - val_loss: 2.7010 - val_acc: 0.8120\n",
      "Epoch 4/10\n",
      "8000/8000 [==============================] - 154s - loss: 2.4889 - acc: 0.8263 - val_loss: 2.2727 - val_acc: 0.8350\n",
      "Epoch 5/10\n",
      "8000/8000 [==============================] - 154s - loss: 2.2005 - acc: 0.8407 - val_loss: 2.1878 - val_acc: 0.8430\n",
      "Epoch 6/10\n",
      "8000/8000 [==============================] - 154s - loss: 2.3624 - acc: 0.8315 - val_loss: 2.9513 - val_acc: 0.7895\n",
      "Epoch 7/10\n",
      "8000/8000 [==============================] - 153s - loss: 2.4836 - acc: 0.8254 - val_loss: 3.0828 - val_acc: 0.7850\n",
      "Epoch 8/10\n",
      "8000/8000 [==============================] - 153s - loss: 2.1542 - acc: 0.8460 - val_loss: 2.2480 - val_acc: 0.8390\n",
      "Epoch 9/10\n",
      "8000/8000 [==============================] - 153s - loss: 2.0690 - acc: 0.8511 - val_loss: 2.1473 - val_acc: 0.8490\n",
      "Epoch 10/10\n",
      "8000/8000 [==============================] - 172s - loss: 1.9618 - acc: 0.8570 - val_loss: 2.0049 - val_acc: 0.8530\n"
     ]
    },
    {
     "data": {
      "text/plain": [
       "<keras.callbacks.History at 0x110bcb5f8>"
      ]
     },
     "execution_count": 30,
     "metadata": {},
     "output_type": "execute_result"
    }
   ],
   "source": [
    "model = Sequential()\n",
    "model.add(Convolution2D(32, 3, 3, border_mode='same', input_shape=(3, 32, 32), init='lecun_uniform', dim_ordering ='th'))\n",
    "model.add(Convolution2D(64, 3, 3, border_mode='same', init='lecun_uniform', dim_ordering ='th'))\n",
    "model.add(MaxPooling2D((2,2), dim_ordering ='th'))\n",
    "model.add(Flatten())\n",
    "model.add(Dense(1024, activation='relu', init='lecun_uniform'))\n",
    "model.add(Dense(2, activation='softmax', init='lecun_uniform'))\n",
    "model.summary()\n",
    "sgd = SGD(lr=0.000001, momentum=0.9, decay=0, nesterov=False)\n",
    "model.compile(optimizer=sgd, loss='categorical_crossentropy', metrics=['accuracy'])\n",
    "model.fit(train_data, train_labels, batch_size=128, nb_epoch=10, validation_split=0.2)"
   ]
  },
  {
   "cell_type": "markdown",
   "metadata": {},
   "source": [
    "The numbers of parameters for the fully connected network are $\\Big(16384\\times1024 + 1024\\Big) = 16778240$ and $\\Big( 1024 \\times 2+2\\Big)=2050$."
   ]
  },
  {
   "cell_type": "code",
   "execution_count": 31,
   "metadata": {
    "collapsed": false
   },
   "outputs": [
    {
     "name": "stdout",
     "output_type": "stream",
     "text": [
      "2000/2000 [==============================] - 21s    \n",
      "  Loss:  1.96334595573  , acc: 0.8595\n"
     ]
    }
   ],
   "source": [
    "scores = model.evaluate(test_data, test_labels);\n",
    "print('  Loss: ', scores[0], ' , acc:', scores[1])"
   ]
  },
  {
   "cell_type": "markdown",
   "metadata": {},
   "source": [
    "## More Convolutional Layers"
   ]
  },
  {
   "cell_type": "code",
   "execution_count": 36,
   "metadata": {
    "collapsed": false
   },
   "outputs": [
    {
     "name": "stdout",
     "output_type": "stream",
     "text": [
      "____________________________________________________________________________________________________\n",
      "Layer (type)                     Output Shape          Param #     Connected to                     \n",
      "====================================================================================================\n",
      "convolution2d_68 (Convolution2D) (None, 32, 32, 32)    896         convolution2d_input_28[0][0]     \n",
      "____________________________________________________________________________________________________\n",
      "convolution2d_69 (Convolution2D) (None, 64, 32, 32)    18496       convolution2d_68[0][0]           \n",
      "____________________________________________________________________________________________________\n",
      "maxpooling2d_31 (MaxPooling2D)   (None, 64, 16, 16)    0           convolution2d_69[0][0]           \n",
      "____________________________________________________________________________________________________\n",
      "convolution2d_70 (Convolution2D) (None, 64, 16, 16)    36928       maxpooling2d_31[0][0]            \n",
      "____________________________________________________________________________________________________\n",
      "convolution2d_71 (Convolution2D) (None, 128, 16, 16)   73856       convolution2d_70[0][0]           \n",
      "____________________________________________________________________________________________________\n",
      "maxpooling2d_32 (MaxPooling2D)   (None, 128, 8, 8)     0           convolution2d_71[0][0]           \n",
      "____________________________________________________________________________________________________\n",
      "flatten_21 (Flatten)             (None, 8192)          0           maxpooling2d_32[0][0]            \n",
      "____________________________________________________________________________________________________\n",
      "dense_41 (Dense)                 (None, 1024)          8389632     flatten_21[0][0]                 \n",
      "____________________________________________________________________________________________________\n",
      "dense_42 (Dense)                 (None, 512)           524800      dense_41[0][0]                   \n",
      "____________________________________________________________________________________________________\n",
      "dropout_11 (Dropout)             (None, 512)           0           dense_42[0][0]                   \n",
      "____________________________________________________________________________________________________\n",
      "dense_43 (Dense)                 (None, 2)             1026        dropout_11[0][0]                 \n",
      "====================================================================================================\n",
      "Total params: 9,045,634\n",
      "Trainable params: 9,045,634\n",
      "Non-trainable params: 0\n",
      "____________________________________________________________________________________________________\n",
      "Train on 8000 samples, validate on 2000 samples\n",
      "Epoch 1/10\n",
      "8000/8000 [==============================] - 235s - loss: 6.1303 - acc: 0.6104 - val_loss: 8.2157 - val_acc: 0.4900\n",
      "Epoch 2/10\n",
      "8000/8000 [==============================] - 234s - loss: 8.0167 - acc: 0.5026 - val_loss: 8.2122 - val_acc: 0.4905\n",
      "Epoch 3/10\n",
      "8000/8000 [==============================] - 235s - loss: 5.7369 - acc: 0.6386 - val_loss: 3.6995 - val_acc: 0.7610\n",
      "Epoch 4/10\n",
      "8000/8000 [==============================] - 234s - loss: 3.3501 - acc: 0.7830 - val_loss: 2.5141 - val_acc: 0.8350\n",
      "Epoch 5/10\n",
      "8000/8000 [==============================] - 233s - loss: 3.0798 - acc: 0.8009 - val_loss: 4.3703 - val_acc: 0.7235\n",
      "Epoch 6/10\n",
      "8000/8000 [==============================] - 233s - loss: 3.4647 - acc: 0.7770 - val_loss: 2.5583 - val_acc: 0.8385\n",
      "Epoch 7/10\n",
      "8000/8000 [==============================] - 233s - loss: 2.4382 - acc: 0.8431 - val_loss: 2.9345 - val_acc: 0.8145\n",
      "Epoch 8/10\n",
      "8000/8000 [==============================] - 233s - loss: 2.4486 - acc: 0.8426 - val_loss: 2.1263 - val_acc: 0.8625\n",
      "Epoch 9/10\n",
      "8000/8000 [==============================] - 233s - loss: 2.3281 - acc: 0.8505 - val_loss: 3.2100 - val_acc: 0.7940\n",
      "Epoch 10/10\n",
      "8000/8000 [==============================] - 233s - loss: 2.2377 - acc: 0.8549 - val_loss: 1.9596 - val_acc: 0.8715\n",
      "2000/2000 [==============================] - 26s    \n",
      "  Loss:  2.08207415771  , acc: 0.8635\n"
     ]
    }
   ],
   "source": [
    "model = Sequential()\n",
    "model.add(Convolution2D(32, 3, 3, border_mode='same', input_shape=(3, 32, 32), init='lecun_uniform', dim_ordering ='th'))\n",
    "model.add(Convolution2D(64, 3, 3, border_mode='same', init='lecun_uniform', dim_ordering ='th'))\n",
    "model.add(MaxPooling2D((2,2), dim_ordering ='th'))\n",
    "model.add(Convolution2D(64, 3, 3, border_mode='same', init='lecun_uniform', dim_ordering ='th'))\n",
    "model.add(Convolution2D(128, 3, 3, border_mode='same', init='lecun_uniform', dim_ordering ='th'))\n",
    "model.add(MaxPooling2D((2,2), dim_ordering ='th'))\n",
    "model.add(Flatten())\n",
    "model.add(Dense(1024, activation='relu', init='lecun_uniform'))\n",
    "model.add(Dense(512, activation='relu', init='lecun_uniform'))\n",
    "model.add(Dropout(0.2))\n",
    "model.add(Dense(2, activation='softmax', init='lecun_uniform'))\n",
    "model.summary()\n",
    "## training\n",
    "sgd = SGD(lr=0.0001, momentum=0.9, decay=0, nesterov=False)\n",
    "model.compile(optimizer=sgd, loss='categorical_crossentropy', metrics=['accuracy'])\n",
    "model.fit(train_data, train_labels, batch_size=128, nb_epoch=10, validation_split=0.2)\n",
    "## testing\n",
    "scores = model.evaluate(test_data, test_labels);\n",
    "print('  Loss: ', scores[0], ' , acc:', scores[1])"
   ]
  },
  {
   "cell_type": "code",
   "execution_count": 38,
   "metadata": {
    "collapsed": false
   },
   "outputs": [
    {
     "name": "stdout",
     "output_type": "stream",
     "text": [
      "Train on 8000 samples, validate on 2000 samples\n",
      "Epoch 1/10\n",
      "8000/8000 [==============================] - 235s - loss: 1.8330 - acc: 0.8804 - val_loss: 1.9305 - val_acc: 0.8745\n",
      "Epoch 2/10\n",
      "8000/8000 [==============================] - 234s - loss: 1.7872 - acc: 0.8825 - val_loss: 1.9185 - val_acc: 0.8740\n",
      "Epoch 3/10\n",
      "8000/8000 [==============================] - 234s - loss: 1.7932 - acc: 0.8828 - val_loss: 1.9085 - val_acc: 0.8755\n",
      "Epoch 4/10\n",
      "8000/8000 [==============================] - 234s - loss: 1.7582 - acc: 0.8841 - val_loss: 1.9150 - val_acc: 0.8745\n",
      "Epoch 5/10\n",
      "8000/8000 [==============================] - 233s - loss: 1.6889 - acc: 0.8875 - val_loss: 1.7848 - val_acc: 0.8810\n",
      "Epoch 6/10\n",
      "8000/8000 [==============================] - 233s - loss: 1.7227 - acc: 0.8859 - val_loss: 1.8128 - val_acc: 0.8795\n",
      "Epoch 7/10\n",
      "8000/8000 [==============================] - 233s - loss: 1.6645 - acc: 0.8904 - val_loss: 1.7333 - val_acc: 0.8840\n",
      "Epoch 8/10\n",
      "8000/8000 [==============================] - 233s - loss: 1.6500 - acc: 0.8906 - val_loss: 1.7339 - val_acc: 0.8855\n",
      "Epoch 9/10\n",
      "8000/8000 [==============================] - 233s - loss: 1.6358 - acc: 0.8911 - val_loss: 1.6985 - val_acc: 0.8845\n",
      "Epoch 10/10\n",
      "8000/8000 [==============================] - 233s - loss: 1.5938 - acc: 0.8940 - val_loss: 1.7246 - val_acc: 0.8845\n",
      "2000/2000 [==============================] - 26s    \n",
      "  Loss:  1.84494717741  , acc: 0.8745\n"
     ]
    }
   ],
   "source": [
    "sgd = SGD(lr=0.00001, momentum=0.9, decay=0, nesterov=False)\n",
    "model.compile(optimizer=sgd, loss='categorical_crossentropy', metrics=['accuracy'])\n",
    "model.fit(train_data, train_labels, batch_size=128, nb_epoch=10, validation_split=0.2)\n",
    "## testing\n",
    "scores = model.evaluate(test_data, test_labels);\n",
    "print('  Loss: ', scores[0], ' , acc:', scores[1])"
   ]
  },
  {
   "cell_type": "code",
   "execution_count": 39,
   "metadata": {
    "collapsed": false
   },
   "outputs": [
    {
     "name": "stdout",
     "output_type": "stream",
     "text": [
      "Train on 8000 samples, validate on 2000 samples\n",
      "Epoch 1/20\n",
      "8000/8000 [==============================] - 244s - loss: 1.5642 - acc: 0.8944 - val_loss: 1.7066 - val_acc: 0.8875\n",
      "Epoch 2/20\n",
      "8000/8000 [==============================] - 249s - loss: 1.5200 - acc: 0.8978 - val_loss: 1.7232 - val_acc: 0.8820\n",
      "Epoch 3/20\n",
      "8000/8000 [==============================] - 233s - loss: 1.5149 - acc: 0.8971 - val_loss: 1.7103 - val_acc: 0.8830\n",
      "Epoch 4/20\n",
      "8000/8000 [==============================] - 234s - loss: 1.5042 - acc: 0.8994 - val_loss: 1.6910 - val_acc: 0.8845\n",
      "Epoch 5/20\n",
      "8000/8000 [==============================] - 233s - loss: 1.5118 - acc: 0.8981 - val_loss: 1.6902 - val_acc: 0.8845\n",
      "Epoch 6/20\n",
      "8000/8000 [==============================] - 234s - loss: 1.5345 - acc: 0.8975 - val_loss: 1.6920 - val_acc: 0.8855\n",
      "Epoch 7/20\n",
      "8000/8000 [==============================] - 233s - loss: 1.5190 - acc: 0.8986 - val_loss: 1.6901 - val_acc: 0.8850\n",
      "Epoch 8/20\n",
      "8000/8000 [==============================] - 233s - loss: 1.4831 - acc: 0.9016 - val_loss: 1.6967 - val_acc: 0.8840\n",
      "Epoch 9/20\n",
      "8000/8000 [==============================] - 233s - loss: 1.5096 - acc: 0.9000 - val_loss: 1.6978 - val_acc: 0.8840\n",
      "Epoch 10/20\n",
      "8000/8000 [==============================] - 234s - loss: 1.4999 - acc: 0.8985 - val_loss: 1.6916 - val_acc: 0.8835\n",
      "Epoch 11/20\n",
      "8000/8000 [==============================] - 233s - loss: 1.4915 - acc: 0.9004 - val_loss: 1.6859 - val_acc: 0.8855\n",
      "Epoch 12/20\n",
      "8000/8000 [==============================] - 233s - loss: 1.5061 - acc: 0.8995 - val_loss: 1.6928 - val_acc: 0.8840\n",
      "Epoch 13/20\n",
      "8000/8000 [==============================] - 234s - loss: 1.5028 - acc: 0.8992 - val_loss: 1.6837 - val_acc: 0.8845\n",
      "Epoch 14/20\n",
      "8000/8000 [==============================] - 233s - loss: 1.5016 - acc: 0.8999 - val_loss: 1.6982 - val_acc: 0.8850\n",
      "Epoch 15/20\n",
      "8000/8000 [==============================] - 233s - loss: 1.5017 - acc: 0.9001 - val_loss: 1.6840 - val_acc: 0.8845\n",
      "Epoch 16/20\n",
      "8000/8000 [==============================] - 233s - loss: 1.4877 - acc: 0.8997 - val_loss: 1.6849 - val_acc: 0.8845\n",
      "Epoch 17/20\n",
      "8000/8000 [==============================] - 234s - loss: 1.4759 - acc: 0.8996 - val_loss: 1.6793 - val_acc: 0.8840\n",
      "Epoch 18/20\n",
      "8000/8000 [==============================] - 233s - loss: 1.4853 - acc: 0.9001 - val_loss: 1.6788 - val_acc: 0.8845\n",
      "Epoch 19/20\n",
      "8000/8000 [==============================] - 234s - loss: 1.4787 - acc: 0.9019 - val_loss: 1.6847 - val_acc: 0.8845\n",
      "Epoch 20/20\n",
      "8000/8000 [==============================] - 233s - loss: 1.4535 - acc: 0.9021 - val_loss: 1.6883 - val_acc: 0.8850\n",
      "2000/2000 [==============================] - 26s    \n",
      "  Loss:  1.75040362203  , acc: 0.882\n"
     ]
    }
   ],
   "source": [
    "sgd = SGD(lr=0.000001, momentum=0.9, decay=0, nesterov=False)\n",
    "model.compile(optimizer=sgd, loss='categorical_crossentropy', metrics=['accuracy'])\n",
    "model.fit(train_data, train_labels, batch_size=128, nb_epoch=20, validation_split=0.2)\n",
    "## testing\n",
    "scores = model.evaluate(test_data, test_labels);\n",
    "print('  Loss: ', scores[0], ' , acc:', scores[1])"
   ]
  },
  {
   "cell_type": "code",
   "execution_count": null,
   "metadata": {
    "collapsed": true
   },
   "outputs": [],
   "source": []
  },
  {
   "cell_type": "code",
   "execution_count": null,
   "metadata": {
    "collapsed": true
   },
   "outputs": [],
   "source": []
  },
  {
   "cell_type": "code",
   "execution_count": 11,
   "metadata": {
    "collapsed": false
   },
   "outputs": [
    {
     "data": {
      "image/png": "[encoded data removed]",
      "text/plain": [
       "<matplotlib.figure.Figure at 0x11fc72048>"
      ]
     },
     "metadata": {},
     "output_type": "display_data"
    }
   ],
   "source": [
    "from numpy import corrcoef, sum, log, arange\n",
    "from numpy.random import rand\n",
    "from pylab import pcolor, show, colorbar, xticks, yticks\n",
    "\n",
    "# generating some uncorrelated data\n",
    "data = rand(10,100) # each row of represents a variable\n",
    "\n",
    "# creating correlation between the variables\n",
    "# variable 2 is correlated with all the other variables\n",
    "data[2,:] = sum(data,0)\n",
    "# variable 4 is correlated with variable 8\n",
    "data[4,:] = log(data[8,:])*0.8\n",
    "\n",
    "# plotting the correlation matrix\n",
    "R = corrcoef(data)\n",
    "pcolor(R)\n",
    "colorbar()\n",
    "yticks(arange(0.5,10.5),range(0,10))\n",
    "xticks(arange(0.5,10.5),range(0,10))\n",
    "show()"
   ]
  },
  {
   "cell_type": "code",
   "execution_count": 11,
   "metadata": {
    "collapsed": false
   },
   "outputs": [
    {
     "name": "stdout",
     "output_type": "stream",
     "text": [
      "(None, 3, 256, 64)\n"
     ]
    }
   ],
   "source": [
    "print (model.output_shape)"
   ]
  },
  {
   "cell_type": "code",
   "execution_count": null,
   "metadata": {
    "collapsed": true
   },
   "outputs": [],
   "source": []
  }
 ],
 "metadata": {
  "kernelspec": {
   "display_name": "Python 3",
   "language": "python",
   "name": "python3"
  },
  "language_info": {
   "codemirror_mode": {
    "name": "ipython",
    "version": 3
   },
   "file_extension": ".py",
   "mimetype": "text/x-python",
   "name": "python",
   "nbconvert_exporter": "python",
   "pygments_lexer": "ipython3",
   "version": "3.5.2"
  }
 },
 "nbformat": 4,
 "nbformat_minor": 0
}
