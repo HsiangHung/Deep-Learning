{
 "cells": [
  {
   "cell_type": "markdown",
   "metadata": {},
   "source": [
    "# MNIST Dataset-1: Recognition of Handwritten Digits\n",
    "\n",
    "In this note, we will implement Keras to build neural network models to recognize handwritten digits using **mnist** data. Here my backend is **tensorflow**. We will show that by properly choosing the network structures and parameters, the best model trained can have accuracy close to 100% and 98% on the test dataset. Through the experiments, the best neural network shown is given by a three-hidden-layer network using **relu** activaction function. Moreover, the model performance and tranining accuracy is sensitive to choice of parameters initialization and loss functions.\n",
    "\n",
    "We fetch mnist data from Yann LeCun's website. Using this dataset, the learning rate $\\alpha$ is not irrelevant to the model performance and accuracy. We stick on using $\\alpha$ = 0.1. However, we will see in the other note, mnist_digits_recognition-2, while using data from Keras, the learning rate is important!"
   ]
  },
  {
   "cell_type": "code",
   "execution_count": 1,
   "metadata": {
    "collapsed": false
   },
   "outputs": [
    {
     "name": "stderr",
     "output_type": "stream",
     "text": [
      "Using TensorFlow backend.\n"
     ]
    }
   ],
   "source": [
    "import keras"
   ]
  },
  {
   "cell_type": "code",
   "execution_count": 2,
   "metadata": {
    "collapsed": true
   },
   "outputs": [],
   "source": [
    "from keras.models import Sequential\n",
    "from keras.layers.core import Dense, Activation\n",
    "from keras.optimizers import SGD"
   ]
  },
  {
   "cell_type": "code",
   "execution_count": 3,
   "metadata": {
    "collapsed": true
   },
   "outputs": [],
   "source": [
    "import matplotlib.pyplot as plt\n",
    "import numpy as np\n",
    "% matplotlib inline"
   ]
  },
  {
   "cell_type": "markdown",
   "metadata": {},
   "source": [
    "## 0. The MNIST database\n",
    "\n",
    "The handwritten digits data can be obtained from [Yann LeCun's website](http://yann.lecun.com/exdb/mnist/). Each image is 28 pixels by 28 pixels and is labeled 0-9 to identify the digits 0-9. This is a 10-class classification problem."
   ]
  },
  {
   "cell_type": "code",
   "execution_count": 4,
   "metadata": {
    "collapsed": false
   },
   "outputs": [
    {
     "name": "stdout",
     "output_type": "stream",
     "text": [
      "Extracting MNIST_data/train-images-idx3-ubyte.gz\n",
      "Extracting MNIST_data/train-labels-idx1-ubyte.gz\n",
      "Extracting MNIST_data/t10k-images-idx3-ubyte.gz\n",
      "Extracting MNIST_data/t10k-labels-idx1-ubyte.gz\n"
     ]
    }
   ],
   "source": [
    "from tensorflow.examples.tutorials.mnist import input_data\n",
    "mnist = input_data.read_data_sets(\"MNIST_data/\", one_hot=True)"
   ]
  },
  {
   "cell_type": "code",
   "execution_count": 5,
   "metadata": {
    "collapsed": false
   },
   "outputs": [
    {
     "data": {
      "text/plain": [
       "tensorflow.contrib.learn.python.learn.datasets.base.Datasets"
      ]
     },
     "execution_count": 5,
     "metadata": {},
     "output_type": "execute_result"
    }
   ],
   "source": [
    "type(mnist)"
   ]
  },
  {
   "cell_type": "markdown",
   "metadata": {},
   "source": [
    "### 55000 samples in training datasets:"
   ]
  },
  {
   "cell_type": "code",
   "execution_count": 6,
   "metadata": {
    "collapsed": false
   },
   "outputs": [
    {
     "data": {
      "text/plain": [
       "((55000, 784), (55000, 10))"
      ]
     },
     "execution_count": 6,
     "metadata": {},
     "output_type": "execute_result"
    }
   ],
   "source": [
    "mnist.train.images.shape, mnist.train.labels.shape"
   ]
  },
  {
   "cell_type": "markdown",
   "metadata": {},
   "source": [
    "### 10000 samples in test datasets:"
   ]
  },
  {
   "cell_type": "code",
   "execution_count": 7,
   "metadata": {
    "collapsed": false
   },
   "outputs": [
    {
     "data": {
      "text/plain": [
       "((10000, 784), (10000, 10))"
      ]
     },
     "execution_count": 7,
     "metadata": {},
     "output_type": "execute_result"
    }
   ],
   "source": [
    "mnist.test.images.shape, mnist.test.labels.shape"
   ]
  },
  {
   "cell_type": "markdown",
   "metadata": {},
   "source": [
    "### Each MNIST image is represented in a784-dimensional vector space with real number [0,1]:"
   ]
  },
  {
   "cell_type": "code",
   "execution_count": 54,
   "metadata": {
    "collapsed": false
   },
   "outputs": [
    {
     "data": {
      "text/plain": [
       "array([ 0.        ,  0.        ,  0.        ,  0.        ,  0.        ,\n",
       "        0.        ,  0.        ,  0.        ,  0.        ,  0.        ,\n",
       "        0.        ,  0.        ,  0.        ,  0.        ,  0.        ,\n",
       "        0.        ,  0.        ,  0.        ,  0.        ,  0.        ,\n",
       "        0.        ,  0.        ,  0.        ,  0.        ,  0.        ,\n",
       "        0.        ,  0.        ,  0.        ,  0.        ,  0.        ,\n",
       "        0.        ,  0.        ,  0.        ,  0.        ,  0.        ,\n",
       "        0.        ,  0.        ,  0.        ,  0.        ,  0.        ,\n",
       "        0.        ,  0.        ,  0.        ,  0.        ,  0.        ,\n",
       "        0.        ,  0.        ,  0.        ,  0.        ,  0.        ,\n",
       "        0.        ,  0.        ,  0.        ,  0.        ,  0.        ,\n",
       "        0.        ,  0.        ,  0.        ,  0.        ,  0.        ,\n",
       "        0.        ,  0.        ,  0.        ,  0.        ,  0.        ,\n",
       "        0.        ,  0.        ,  0.        ,  0.        ,  0.        ,\n",
       "        0.        ,  0.        ,  0.        ,  0.        ,  0.        ,\n",
       "        0.        ,  0.        ,  0.        ,  0.        ,  0.        ,\n",
       "        0.        ,  0.        ,  0.        ,  0.        ,  0.        ,\n",
       "        0.        ,  0.        ,  0.        ,  0.        ,  0.        ,\n",
       "        0.        ,  0.        ,  0.        ,  0.        ,  0.        ,\n",
       "        0.        ,  0.        ,  0.        ,  0.        ,  0.        ,\n",
       "        0.        ,  0.        ,  0.        ,  0.        ,  0.        ,\n",
       "        0.        ,  0.        ,  0.        ,  0.        ,  0.        ,\n",
       "        0.        ,  0.        ,  0.        ,  0.        ,  0.        ,\n",
       "        0.        ,  0.        ,  0.        ,  0.        ,  0.        ,\n",
       "        0.        ,  0.        ,  0.        ,  0.        ,  0.        ,\n",
       "        0.        ,  0.        ,  0.        ,  0.        ,  0.        ,\n",
       "        0.        ,  0.        ,  0.        ,  0.        ,  0.        ,\n",
       "        0.        ,  0.        ,  0.        ,  0.        ,  0.        ,\n",
       "        0.        ,  0.        ,  0.        ,  0.        ,  0.        ,\n",
       "        0.        ,  0.        ,  0.        ,  0.        ,  0.        ,\n",
       "        0.        ,  0.        ,  0.        ,  0.        ,  0.        ,\n",
       "        0.        ,  0.        ,  0.        ,  0.        ,  0.        ,\n",
       "        0.        ,  0.        ,  0.        ,  0.        ,  0.        ,\n",
       "        0.        ,  0.        ,  0.        ,  0.        ,  0.        ,\n",
       "        0.        ,  0.        ,  0.        ,  0.        ,  0.        ,\n",
       "        0.        ,  0.        ,  0.        ,  0.        ,  0.        ,\n",
       "        0.        ,  0.        ,  0.        ,  0.        ,  0.        ,\n",
       "        0.        ,  0.        ,  0.        ,  0.        ,  0.        ,\n",
       "        0.        ,  0.        ,  0.        ,  0.        ,  0.        ,\n",
       "        0.        ,  0.        ,  0.        ,  0.        ,  0.        ,\n",
       "        0.        ,  0.        ,  0.        ,  0.        ,  0.        ,\n",
       "        0.        ,  0.        ,  0.38039219,  0.37647063,  0.3019608 ,\n",
       "        0.46274513,  0.2392157 ,  0.        ,  0.        ,  0.        ,\n",
       "        0.        ,  0.        ,  0.        ,  0.        ,  0.        ,\n",
       "        0.        ,  0.        ,  0.        ,  0.        ,  0.        ,\n",
       "        0.        ,  0.        ,  0.35294119,  0.5411765 ,  0.92156869,\n",
       "        0.92156869,  0.92156869,  0.92156869,  0.92156869,  0.92156869,\n",
       "        0.98431379,  0.98431379,  0.97254908,  0.99607849,  0.96078438,\n",
       "        0.92156869,  0.74509805,  0.08235294,  0.        ,  0.        ,\n",
       "        0.        ,  0.        ,  0.        ,  0.        ,  0.        ,\n",
       "        0.        ,  0.        ,  0.        ,  0.        ,  0.54901963,\n",
       "        0.98431379,  0.99607849,  0.99607849,  0.99607849,  0.99607849,\n",
       "        0.99607849,  0.99607849,  0.99607849,  0.99607849,  0.99607849,\n",
       "        0.99607849,  0.99607849,  0.99607849,  0.99607849,  0.99607849,\n",
       "        0.74117649,  0.09019608,  0.        ,  0.        ,  0.        ,\n",
       "        0.        ,  0.        ,  0.        ,  0.        ,  0.        ,\n",
       "        0.        ,  0.        ,  0.88627458,  0.99607849,  0.81568635,\n",
       "        0.78039223,  0.78039223,  0.78039223,  0.78039223,  0.54509807,\n",
       "        0.2392157 ,  0.2392157 ,  0.2392157 ,  0.2392157 ,  0.2392157 ,\n",
       "        0.50196081,  0.8705883 ,  0.99607849,  0.99607849,  0.74117649,\n",
       "        0.08235294,  0.        ,  0.        ,  0.        ,  0.        ,\n",
       "        0.        ,  0.        ,  0.        ,  0.        ,  0.        ,\n",
       "        0.14901961,  0.32156864,  0.0509804 ,  0.        ,  0.        ,\n",
       "        0.        ,  0.        ,  0.        ,  0.        ,  0.        ,\n",
       "        0.        ,  0.        ,  0.        ,  0.        ,  0.13333334,\n",
       "        0.83529419,  0.99607849,  0.99607849,  0.45098042,  0.        ,\n",
       "        0.        ,  0.        ,  0.        ,  0.        ,  0.        ,\n",
       "        0.        ,  0.        ,  0.        ,  0.        ,  0.        ,\n",
       "        0.        ,  0.        ,  0.        ,  0.        ,  0.        ,\n",
       "        0.        ,  0.        ,  0.        ,  0.        ,  0.        ,\n",
       "        0.        ,  0.        ,  0.        ,  0.32941177,  0.99607849,\n",
       "        0.99607849,  0.91764712,  0.        ,  0.        ,  0.        ,\n",
       "        0.        ,  0.        ,  0.        ,  0.        ,  0.        ,\n",
       "        0.        ,  0.        ,  0.        ,  0.        ,  0.        ,\n",
       "        0.        ,  0.        ,  0.        ,  0.        ,  0.        ,\n",
       "        0.        ,  0.        ,  0.        ,  0.        ,  0.        ,\n",
       "        0.        ,  0.32941177,  0.99607849,  0.99607849,  0.91764712,\n",
       "        0.        ,  0.        ,  0.        ,  0.        ,  0.        ,\n",
       "        0.        ,  0.        ,  0.        ,  0.        ,  0.        ,\n",
       "        0.        ,  0.        ,  0.        ,  0.        ,  0.        ,\n",
       "        0.        ,  0.        ,  0.        ,  0.        ,  0.        ,\n",
       "        0.        ,  0.        ,  0.        ,  0.41568631,  0.6156863 ,\n",
       "        0.99607849,  0.99607849,  0.95294124,  0.20000002,  0.        ,\n",
       "        0.        ,  0.        ,  0.        ,  0.        ,  0.        ,\n",
       "        0.        ,  0.        ,  0.        ,  0.        ,  0.        ,\n",
       "        0.        ,  0.        ,  0.        ,  0.        ,  0.        ,\n",
       "        0.        ,  0.09803922,  0.45882356,  0.89411771,  0.89411771,\n",
       "        0.89411771,  0.99215692,  0.99607849,  0.99607849,  0.99607849,\n",
       "        0.99607849,  0.94117653,  0.        ,  0.        ,  0.        ,\n",
       "        0.        ,  0.        ,  0.        ,  0.        ,  0.        ,\n",
       "        0.        ,  0.        ,  0.        ,  0.        ,  0.        ,\n",
       "        0.        ,  0.        ,  0.26666668,  0.4666667 ,  0.86274517,\n",
       "        0.99607849,  0.99607849,  0.99607849,  0.99607849,  0.99607849,\n",
       "        0.99607849,  0.99607849,  0.99607849,  0.99607849,  0.55686277,\n",
       "        0.        ,  0.        ,  0.        ,  0.        ,  0.        ,\n",
       "        0.        ,  0.        ,  0.        ,  0.        ,  0.        ,\n",
       "        0.        ,  0.        ,  0.        ,  0.14509805,  0.73333335,\n",
       "        0.99215692,  0.99607849,  0.99607849,  0.99607849,  0.87450987,\n",
       "        0.80784321,  0.80784321,  0.29411766,  0.26666668,  0.84313732,\n",
       "        0.99607849,  0.99607849,  0.45882356,  0.        ,  0.        ,\n",
       "        0.        ,  0.        ,  0.        ,  0.        ,  0.        ,\n",
       "        0.        ,  0.        ,  0.        ,  0.        ,  0.        ,\n",
       "        0.44313729,  0.8588236 ,  0.99607849,  0.94901967,  0.89019614,\n",
       "        0.45098042,  0.34901962,  0.12156864,  0.        ,  0.        ,\n",
       "        0.        ,  0.        ,  0.7843138 ,  0.99607849,  0.9450981 ,\n",
       "        0.16078432,  0.        ,  0.        ,  0.        ,  0.        ,\n",
       "        0.        ,  0.        ,  0.        ,  0.        ,  0.        ,\n",
       "        0.        ,  0.        ,  0.        ,  0.66274512,  0.99607849,\n",
       "        0.6901961 ,  0.24313727,  0.        ,  0.        ,  0.        ,\n",
       "        0.        ,  0.        ,  0.        ,  0.        ,  0.18823531,\n",
       "        0.90588242,  0.99607849,  0.91764712,  0.        ,  0.        ,\n",
       "        0.        ,  0.        ,  0.        ,  0.        ,  0.        ,\n",
       "        0.        ,  0.        ,  0.        ,  0.        ,  0.        ,\n",
       "        0.        ,  0.07058824,  0.48627454,  0.        ,  0.        ,\n",
       "        0.        ,  0.        ,  0.        ,  0.        ,  0.        ,\n",
       "        0.        ,  0.        ,  0.32941177,  0.99607849,  0.99607849,\n",
       "        0.65098041,  0.        ,  0.        ,  0.        ,  0.        ,\n",
       "        0.        ,  0.        ,  0.        ,  0.        ,  0.        ,\n",
       "        0.        ,  0.        ,  0.        ,  0.        ,  0.        ,\n",
       "        0.        ,  0.        ,  0.        ,  0.        ,  0.        ,\n",
       "        0.        ,  0.        ,  0.        ,  0.        ,  0.        ,\n",
       "        0.54509807,  0.99607849,  0.9333334 ,  0.22352943,  0.        ,\n",
       "        0.        ,  0.        ,  0.        ,  0.        ,  0.        ,\n",
       "        0.        ,  0.        ,  0.        ,  0.        ,  0.        ,\n",
       "        0.        ,  0.        ,  0.        ,  0.        ,  0.        ,\n",
       "        0.        ,  0.        ,  0.        ,  0.        ,  0.        ,\n",
       "        0.        ,  0.        ,  0.82352948,  0.98039222,  0.99607849,\n",
       "        0.65882355,  0.        ,  0.        ,  0.        ,  0.        ,\n",
       "        0.        ,  0.        ,  0.        ,  0.        ,  0.        ,\n",
       "        0.        ,  0.        ,  0.        ,  0.        ,  0.        ,\n",
       "        0.        ,  0.        ,  0.        ,  0.        ,  0.        ,\n",
       "        0.        ,  0.        ,  0.        ,  0.        ,  0.        ,\n",
       "        0.94901967,  0.99607849,  0.93725497,  0.22352943,  0.        ,\n",
       "        0.        ,  0.        ,  0.        ,  0.        ,  0.        ,\n",
       "        0.        ,  0.        ,  0.        ,  0.        ,  0.        ,\n",
       "        0.        ,  0.        ,  0.        ,  0.        ,  0.        ,\n",
       "        0.        ,  0.        ,  0.        ,  0.        ,  0.        ,\n",
       "        0.        ,  0.        ,  0.34901962,  0.98431379,  0.9450981 ,\n",
       "        0.33725491,  0.        ,  0.        ,  0.        ,  0.        ,\n",
       "        0.        ,  0.        ,  0.        ,  0.        ,  0.        ,\n",
       "        0.        ,  0.        ,  0.        ,  0.        ,  0.        ,\n",
       "        0.        ,  0.        ,  0.        ,  0.        ,  0.        ,\n",
       "        0.        ,  0.        ,  0.        ,  0.        ,  0.01960784,\n",
       "        0.80784321,  0.96470594,  0.6156863 ,  0.        ,  0.        ,\n",
       "        0.        ,  0.        ,  0.        ,  0.        ,  0.        ,\n",
       "        0.        ,  0.        ,  0.        ,  0.        ,  0.        ,\n",
       "        0.        ,  0.        ,  0.        ,  0.        ,  0.        ,\n",
       "        0.        ,  0.        ,  0.        ,  0.        ,  0.        ,\n",
       "        0.        ,  0.        ,  0.01568628,  0.45882356,  0.27058825,\n",
       "        0.        ,  0.        ,  0.        ,  0.        ,  0.        ,\n",
       "        0.        ,  0.        ,  0.        ,  0.        ,  0.        ,\n",
       "        0.        ,  0.        ,  0.        ,  0.        ,  0.        ,\n",
       "        0.        ,  0.        ,  0.        ,  0.        ,  0.        ,\n",
       "        0.        ,  0.        ,  0.        ,  0.        ,  0.        ,\n",
       "        0.        ,  0.        ,  0.        ,  0.        ,  0.        ,\n",
       "        0.        ,  0.        ,  0.        ,  0.        ,  0.        ,\n",
       "        0.        ,  0.        ,  0.        ,  0.        ], dtype=float32)"
      ]
     },
     "execution_count": 54,
     "metadata": {},
     "output_type": "execute_result"
    }
   ],
   "source": [
    "mnist.train.images[0]"
   ]
  },
  {
   "cell_type": "code",
   "execution_count": 8,
   "metadata": {
    "collapsed": false
   },
   "outputs": [
    {
     "data": {
      "text/plain": [
       "array([ 0.,  0.,  0.,  0.,  0.,  0.,  0.,  1.,  0.,  0.])"
      ]
     },
     "execution_count": 8,
     "metadata": {},
     "output_type": "execute_result"
    }
   ],
   "source": [
    "mnist.train.labels[0]"
   ]
  },
  {
   "cell_type": "code",
   "execution_count": 11,
   "metadata": {
    "collapsed": false
   },
   "outputs": [
    {
     "data": {
      "text/plain": [
       "(numpy.ndarray, tuple)"
      ]
     },
     "execution_count": 11,
     "metadata": {},
     "output_type": "execute_result"
    }
   ],
   "source": [
    "type(mnist.train.images), type(mnist.train.labels.shape)"
   ]
  },
  {
   "cell_type": "markdown",
   "metadata": {},
   "source": [
    "### The images:"
   ]
  },
  {
   "cell_type": "code",
   "execution_count": 19,
   "metadata": {
    "collapsed": true
   },
   "outputs": [],
   "source": [
    "def plotExamples(data, labels):\n",
    "    plt.figure(figsize=(8,5))\n",
    "    for i in range(8):\n",
    "        sub = 241 + i\n",
    "        ax = plt.subplot(sub)\n",
    "        index = np.random.randint(0, data.shape[0])\n",
    "        ax.set_title(\"num: \" + str(np.argmax(labels[index])))\n",
    "        im = np.reshape(data[index], (28, 28))\n",
    "        plt.imshow(im, cmap=\"gray\")\n",
    "    plt.show()"
   ]
  },
  {
   "cell_type": "code",
   "execution_count": 47,
   "metadata": {
    "collapsed": false
   },
   "outputs": [
    {
     "data": {
      "image/png": "[encoded data removed]",
      "text/plain": [
       "<matplotlib.figure.Figure at 0x1250fe908>"
      ]
     },
     "metadata": {},
     "output_type": "display_data"
    }
   ],
   "source": [
    "plotExamples(mnist.train.images, mnist.train.labels)"
   ]
  },
  {
   "cell_type": "markdown",
   "metadata": {},
   "source": [
    "## 1. Training Neural Networks using Keras\n",
    "\n",
    "Here we consider different neural network structures to train models. We compare the models by different number of neurons in hidden layers, different loss functions: **mse** and **categorical_crossentropy**, different activation functions: **sigoid** and **relu**, more hidden layers and even initialization. The neural network in the **mnist** data always has the input layer with 784 inputs and the output layer with 10 neurons (10 classes). \n",
    "\n",
    "Let us start with the neural network: one hidden layer with 100 neurons, using **sigmoid** as activation function in the hidden layer and output layer, and uniform initialization. For each variant, we will reveal how the structure infleunce the training results by comparing model performance. \n",
    "\n",
    "### (a) Initial network: 1-hidden layer with 100 neurons, sigmoid activation in all layers\n",
    "\n",
    "At the beginning we compare using **mse** and **categorical_crossentropy** as loss functions. The result shows using **categorical_crossentropy** as loss functions has faster convergence, so we will stick on using **categorical_crossentropy**. Later we will revisit using **mse**.\n",
    "\n",
    "#### Mean squared error (mse) as the loss function"
   ]
  },
  {
   "cell_type": "code",
   "execution_count": 48,
   "metadata": {
    "collapsed": false
   },
   "outputs": [
    {
     "name": "stdout",
     "output_type": "stream",
     "text": [
      "Epoch 1/20\n",
      "4s - loss: 0.0916 - acc: 0.1263\n",
      "Epoch 2/20\n",
      "4s - loss: 0.0886 - acc: 0.2060\n",
      "Epoch 3/20\n",
      "4s - loss: 0.0861 - acc: 0.2575\n",
      "Epoch 4/20\n",
      "4s - loss: 0.0798 - acc: 0.3408\n",
      "Epoch 5/20\n",
      "4s - loss: 0.0715 - acc: 0.4701\n",
      "Epoch 6/20\n",
      "4s - loss: 0.0631 - acc: 0.5856\n",
      "Epoch 7/20\n",
      "4s - loss: 0.0557 - acc: 0.6770\n",
      "Epoch 8/20\n",
      "4s - loss: 0.0497 - acc: 0.7303\n",
      "Epoch 9/20\n",
      "4s - loss: 0.0447 - acc: 0.7681\n",
      "Epoch 10/20\n",
      "4s - loss: 0.0408 - acc: 0.7937\n",
      "Epoch 11/20\n",
      "4s - loss: 0.0377 - acc: 0.8150\n",
      "Epoch 12/20\n",
      "4s - loss: 0.0351 - acc: 0.8321\n",
      "Epoch 13/20\n",
      "4s - loss: 0.0330 - acc: 0.8453\n",
      "Epoch 14/20\n",
      "4s - loss: 0.0312 - acc: 0.8553\n",
      "Epoch 15/20\n",
      "4s - loss: 0.0297 - acc: 0.8617\n",
      "Epoch 16/20\n",
      "4s - loss: 0.0283 - acc: 0.8675\n",
      "Epoch 17/20\n",
      "4s - loss: 0.0271 - acc: 0.8724\n",
      "Epoch 18/20\n",
      "4s - loss: 0.0261 - acc: 0.8761\n",
      "Epoch 19/20\n",
      "4s - loss: 0.0252 - acc: 0.8785\n",
      "Epoch 20/20\n",
      "4s - loss: 0.0244 - acc: 0.8816\n"
     ]
    },
    {
     "data": {
      "text/plain": [
       "<keras.callbacks.History at 0x132f2da58>"
      ]
     },
     "execution_count": 48,
     "metadata": {},
     "output_type": "execute_result"
    }
   ],
   "source": [
    "model = Sequential()\n",
    "model.add(Dense(100, input_dim=784, init='uniform', activation='sigmoid'))\n",
    "model.add(Dense(10, init='uniform', activation='sigmoid'))\n",
    "## lr is the learning rate\n",
    "sgd = SGD(lr=0.1) \n",
    "model.compile(loss='mse', optimizer=sgd, metrics=['accuracy'])\n",
    "model.fit(mnist.train.images, mnist.train.labels, batch_size=32, nb_epoch=20, verbose=2)"
   ]
  },
  {
   "cell_type": "code",
   "execution_count": 49,
   "metadata": {
    "collapsed": false
   },
   "outputs": [
    {
     "name": "stdout",
     "output_type": "stream",
     "text": [
      " 9856/10000 [============================>.] - ETA: 0s  Loss:  0.0229811948523  , acc: 0.8893\n"
     ]
    }
   ],
   "source": [
    "scores = model.evaluate(mnist.test.images, mnist.test.labels);\n",
    "print('  Loss: ', scores[0], ' , acc:', scores[1])"
   ]
  },
  {
   "cell_type": "markdown",
   "metadata": {},
   "source": [
    "#### Categorical crosssentropy as the loss function"
   ]
  },
  {
   "cell_type": "code",
   "execution_count": 50,
   "metadata": {
    "collapsed": false
   },
   "outputs": [
    {
     "name": "stdout",
     "output_type": "stream",
     "text": [
      "Epoch 1/20\n",
      "5s - loss: 0.8876 - acc: 0.7504\n",
      "Epoch 2/20\n",
      "5s - loss: 0.3267 - acc: 0.9069\n",
      "Epoch 3/20\n",
      "4s - loss: 0.2731 - acc: 0.9215\n",
      "Epoch 4/20\n",
      "5s - loss: 0.2402 - acc: 0.9301\n",
      "Epoch 5/20\n",
      "5s - loss: 0.2144 - acc: 0.9383\n",
      "Epoch 6/20\n",
      "4s - loss: 0.1940 - acc: 0.9441\n",
      "Epoch 7/20\n",
      "4s - loss: 0.1770 - acc: 0.9482\n",
      "Epoch 8/20\n",
      "5s - loss: 0.1625 - acc: 0.9532\n",
      "Epoch 9/20\n",
      "5s - loss: 0.1507 - acc: 0.9564\n",
      "Epoch 10/20\n",
      "6s - loss: 0.1399 - acc: 0.9605\n",
      "Epoch 11/20\n",
      "7s - loss: 0.1309 - acc: 0.9621\n",
      "Epoch 12/20\n",
      "6s - loss: 0.1227 - acc: 0.9650\n",
      "Epoch 13/20\n",
      "6s - loss: 0.1153 - acc: 0.9670\n",
      "Epoch 14/20\n",
      "6s - loss: 0.1090 - acc: 0.9690\n",
      "Epoch 15/20\n",
      "6s - loss: 0.1031 - acc: 0.9711\n",
      "Epoch 16/20\n",
      "5s - loss: 0.0980 - acc: 0.9724\n",
      "Epoch 17/20\n",
      "5s - loss: 0.0931 - acc: 0.9739\n",
      "Epoch 18/20\n",
      "5s - loss: 0.0885 - acc: 0.9757\n",
      "Epoch 19/20\n",
      "5s - loss: 0.0846 - acc: 0.9764\n",
      "Epoch 20/20\n",
      "5s - loss: 0.0809 - acc: 0.9780\n",
      " 9920/10000 [============================>.] - ETA: 0s  Loss:  0.0961783868916  , acc: 0.9709\n"
     ]
    }
   ],
   "source": [
    "model = Sequential()\n",
    "model.add(Dense(100, input_dim=784, init='uniform', activation='sigmoid'))\n",
    "model.add(Dense(10, init='uniform', activation='sigmoid'))\n",
    "sgd = SGD(lr=0.1) \n",
    "model.compile(loss='categorical_crossentropy', optimizer=sgd, metrics=['accuracy'])\n",
    "model.fit(mnist.train.images, mnist.train.labels, batch_size=32, nb_epoch=20, verbose=2)\n",
    "scores = model.evaluate(mnist.test.images, mnist.test.labels);\n",
    "print('  Loss: ', scores[0], ' , acc:', scores[1])"
   ]
  },
  {
   "cell_type": "markdown",
   "metadata": {},
   "source": [
    "**categorical_crossentropy** shows faster convergence. Thus we will stick on using **categorical_crossentropy** as loss function."
   ]
  },
  {
   "cell_type": "markdown",
   "metadata": {},
   "source": [
    "### (b) Implement softmax to activation function in the output layers\n",
    "\n",
    "#### sigmoid activation -> softmax activation in the output layer"
   ]
  },
  {
   "cell_type": "code",
   "execution_count": 46,
   "metadata": {
    "collapsed": false
   },
   "outputs": [
    {
     "name": "stdout",
     "output_type": "stream",
     "text": [
      "Epoch 1/20\n",
      "6s - loss: 0.7350 - acc: 0.7968\n",
      "Epoch 2/20\n",
      "5s - loss: 0.3181 - acc: 0.9087\n",
      "Epoch 3/20\n",
      "5s - loss: 0.2695 - acc: 0.9218\n",
      "Epoch 4/20\n",
      "6s - loss: 0.2369 - acc: 0.9322\n",
      "Epoch 5/20\n",
      "7s - loss: 0.2123 - acc: 0.9391\n",
      "Epoch 6/20\n",
      "6s - loss: 0.1915 - acc: 0.9447\n",
      "Epoch 7/20\n",
      "5s - loss: 0.1747 - acc: 0.9496\n",
      "Epoch 8/20\n",
      "5s - loss: 0.1605 - acc: 0.9540\n",
      "Epoch 9/20\n",
      "5s - loss: 0.1482 - acc: 0.9576\n",
      "Epoch 10/20\n",
      "5s - loss: 0.1376 - acc: 0.9605\n",
      "Epoch 11/20\n",
      "5s - loss: 0.1285 - acc: 0.9632\n",
      "Epoch 12/20\n",
      "5s - loss: 0.1204 - acc: 0.9654\n",
      "Epoch 13/20\n",
      "5s - loss: 0.1131 - acc: 0.9672\n",
      "Epoch 14/20\n",
      "5s - loss: 0.1068 - acc: 0.9695\n",
      "Epoch 15/20\n",
      "5s - loss: 0.1011 - acc: 0.9712\n",
      "Epoch 16/20\n",
      "5s - loss: 0.0962 - acc: 0.9730\n",
      "Epoch 17/20\n",
      "5s - loss: 0.0914 - acc: 0.9743\n",
      "Epoch 18/20\n",
      "5s - loss: 0.0871 - acc: 0.9757\n",
      "Epoch 19/20\n",
      "5s - loss: 0.0831 - acc: 0.9767\n",
      "Epoch 20/20\n",
      "5s - loss: 0.0795 - acc: 0.9779\n",
      " 9984/10000 [============================>.] - ETA: 0s  Loss:  0.0961759171788  , acc: 0.9702\n"
     ]
    }
   ],
   "source": [
    "model2 = Sequential()\n",
    "model2.add(Dense(100, input_dim=784, init='uniform', activation='sigmoid'))\n",
    "model2.add(Dense(10, init='uniform', activation='softmax'))\n",
    "sgd = SGD(lr=0.1) \n",
    "model2.compile(loss='categorical_crossentropy', optimizer=sgd, metrics=['accuracy'])\n",
    "model2.fit(mnist.train.images, mnist.train.labels, batch_size=32, nb_epoch=20, verbose=2)\n",
    "scores = model2.evaluate(mnist.test.images, mnist.test.labels);\n",
    "print('  Loss: ', scores[0], ' , acc:', scores[1])"
   ]
  },
  {
   "cell_type": "markdown",
   "metadata": {},
   "source": [
    "Here it shows the selection of **sigmoid** and **softmax** in the output layer is only slightly relevant or even irrelevant to the model accuracy."
   ]
  },
  {
   "cell_type": "markdown",
   "metadata": {},
   "source": [
    "### (c) Enlarge the number of neurons in the hidden layer to 400\n",
    "\n",
    "#### number of neurons 100 -> 400"
   ]
  },
  {
   "cell_type": "code",
   "execution_count": 51,
   "metadata": {
    "collapsed": false
   },
   "outputs": [
    {
     "name": "stdout",
     "output_type": "stream",
     "text": [
      "Epoch 1/50\n",
      "8s - loss: 0.6437 - acc: 0.8080\n",
      "Epoch 2/50\n",
      "8s - loss: 0.3286 - acc: 0.9044\n",
      "Epoch 3/50\n",
      "8s - loss: 0.2952 - acc: 0.9147\n",
      "Epoch 4/50\n",
      "8s - loss: 0.2705 - acc: 0.9210\n",
      "Epoch 5/50\n",
      "8s - loss: 0.2481 - acc: 0.9286\n",
      "Epoch 6/50\n",
      "8s - loss: 0.2266 - acc: 0.9346\n",
      "Epoch 7/50\n",
      "8s - loss: 0.2070 - acc: 0.9403\n",
      "Epoch 8/50\n",
      "8s - loss: 0.1895 - acc: 0.9461\n",
      "Epoch 9/50\n",
      "8s - loss: 0.1750 - acc: 0.9492\n",
      "Epoch 10/50\n",
      "8s - loss: 0.1612 - acc: 0.9544\n",
      "Epoch 11/50\n",
      "8s - loss: 0.1500 - acc: 0.9572\n",
      "Epoch 12/50\n",
      "8s - loss: 0.1395 - acc: 0.9601\n",
      "Epoch 13/50\n",
      "8s - loss: 0.1303 - acc: 0.9635\n",
      "Epoch 14/50\n",
      "8s - loss: 0.1219 - acc: 0.9656\n",
      "Epoch 15/50\n",
      "8s - loss: 0.1148 - acc: 0.9674\n",
      "Epoch 16/50\n",
      "8s - loss: 0.1082 - acc: 0.9693\n",
      "Epoch 17/50\n",
      "8s - loss: 0.1021 - acc: 0.9713\n",
      "Epoch 18/50\n",
      "8s - loss: 0.0967 - acc: 0.9730\n",
      "Epoch 19/50\n",
      "8s - loss: 0.0917 - acc: 0.9739\n",
      "Epoch 20/50\n",
      "8s - loss: 0.0869 - acc: 0.9758\n",
      "Epoch 21/50\n",
      "8s - loss: 0.0826 - acc: 0.9769\n",
      "Epoch 22/50\n",
      "8s - loss: 0.0787 - acc: 0.9782\n",
      "Epoch 23/50\n",
      "8s - loss: 0.0752 - acc: 0.9794\n",
      "Epoch 24/50\n",
      "8s - loss: 0.0715 - acc: 0.9804\n",
      "Epoch 25/50\n",
      "8s - loss: 0.0685 - acc: 0.9809\n",
      "Epoch 26/50\n",
      "8s - loss: 0.0657 - acc: 0.9818\n",
      "Epoch 27/50\n",
      "8s - loss: 0.0631 - acc: 0.9825\n",
      "Epoch 28/50\n",
      "8s - loss: 0.0604 - acc: 0.9831\n",
      "Epoch 29/50\n",
      "8s - loss: 0.0578 - acc: 0.9842\n",
      "Epoch 30/50\n",
      "8s - loss: 0.0555 - acc: 0.9848\n",
      "Epoch 31/50\n",
      "8s - loss: 0.0534 - acc: 0.9854\n",
      "Epoch 32/50\n",
      "8s - loss: 0.0513 - acc: 0.9859\n",
      "Epoch 33/50\n",
      "8s - loss: 0.0490 - acc: 0.9868\n",
      "Epoch 34/50\n",
      "8s - loss: 0.0473 - acc: 0.9874\n",
      "Epoch 35/50\n",
      "8s - loss: 0.0457 - acc: 0.9878\n",
      "Epoch 36/50\n",
      "8s - loss: 0.0440 - acc: 0.9885\n",
      "Epoch 37/50\n",
      "8s - loss: 0.0424 - acc: 0.9891\n",
      "Epoch 38/50\n",
      "8s - loss: 0.0409 - acc: 0.9895\n",
      "Epoch 39/50\n",
      "8s - loss: 0.0393 - acc: 0.9902\n",
      "Epoch 40/50\n",
      "8s - loss: 0.0380 - acc: 0.9899\n",
      "Epoch 41/50\n",
      "10s - loss: 0.0367 - acc: 0.9912\n",
      "Epoch 42/50\n",
      "9s - loss: 0.0353 - acc: 0.9913\n",
      "Epoch 43/50\n",
      "8s - loss: 0.0341 - acc: 0.9914\n",
      "Epoch 44/50\n",
      "9s - loss: 0.0329 - acc: 0.9919\n",
      "Epoch 45/50\n",
      "8s - loss: 0.0319 - acc: 0.9927\n",
      "Epoch 46/50\n",
      "10s - loss: 0.0307 - acc: 0.9928\n",
      "Epoch 47/50\n",
      "9s - loss: 0.0297 - acc: 0.9931\n",
      "Epoch 48/50\n",
      "9s - loss: 0.0288 - acc: 0.9933\n",
      "Epoch 49/50\n",
      "10s - loss: 0.0278 - acc: 0.9937\n",
      "Epoch 50/50\n",
      "9s - loss: 0.0268 - acc: 0.9945\n",
      "10000/10000 [==============================] - 1s     \n",
      "  Loss:  0.0671618557692  , acc: 0.9777\n"
     ]
    }
   ],
   "source": [
    "model3 = Sequential()\n",
    "model3.add(Dense(400, input_dim=784, init='uniform', activation='sigmoid'))\n",
    "model3.add(Dense(10, init='uniform', activation='softmax'))\n",
    "sgd = SGD(lr=0.1) \n",
    "model3.compile(loss='categorical_crossentropy', optimizer=sgd, metrics=['accuracy'])\n",
    "model3.fit(mnist.train.images, mnist.train.labels, batch_size=32, nb_epoch=50, verbose=2)\n",
    "scores = model3.evaluate(mnist.test.images, mnist.test.labels);\n",
    "print('  Loss: ', scores[0], ' , acc:', scores[1])"
   ]
  },
  {
   "cell_type": "markdown",
   "metadata": {},
   "source": [
    "Obviously more nerons in the hidden layer is helpful! The training accuracy is enhanced to 99% though the model on the test sets still has similar performance."
   ]
  },
  {
   "cell_type": "markdown",
   "metadata": {},
   "source": [
    "### (d) Add more hidden layers: 3 hidden layers with 200-200-100 neurons\n",
    "#### one hidden layer -> 3 hidden layers"
   ]
  },
  {
   "cell_type": "code",
   "execution_count": 75,
   "metadata": {
    "collapsed": false
   },
   "outputs": [
    {
     "name": "stdout",
     "output_type": "stream",
     "text": [
      "Epoch 1/50\n",
      "19s - loss: 2.3119 - acc: 0.1069\n",
      "Epoch 2/50\n",
      "16s - loss: 2.2996 - acc: 0.1193\n",
      "Epoch 3/50\n",
      "14s - loss: 1.9507 - acc: 0.2768\n",
      "Epoch 4/50\n",
      "16s - loss: 1.3733 - acc: 0.4822\n",
      "Epoch 5/50\n",
      "17s - loss: 0.7101 - acc: 0.7800\n",
      "Epoch 6/50\n",
      "17s - loss: 0.4131 - acc: 0.8841\n",
      "Epoch 7/50\n",
      "18s - loss: 0.2813 - acc: 0.9195\n",
      "Epoch 8/50\n",
      "15s - loss: 0.2248 - acc: 0.9360\n",
      "Epoch 9/50\n",
      "17s - loss: 0.1856 - acc: 0.9458\n",
      "Epoch 10/50\n",
      "16s - loss: 0.1579 - acc: 0.9538\n",
      "Epoch 11/50\n",
      "16s - loss: 0.1360 - acc: 0.9598\n",
      "Epoch 12/50\n",
      "15s - loss: 0.1188 - acc: 0.9653\n",
      "Epoch 13/50\n",
      "14s - loss: 0.1052 - acc: 0.9692\n",
      "Epoch 14/50\n",
      "14s - loss: 0.0937 - acc: 0.9723\n",
      "Epoch 15/50\n",
      "14s - loss: 0.0841 - acc: 0.9747\n",
      "Epoch 16/50\n",
      "14s - loss: 0.0765 - acc: 0.9771\n",
      "Epoch 17/50\n",
      "13s - loss: 0.0677 - acc: 0.9802\n",
      "Epoch 18/50\n",
      "14s - loss: 0.0621 - acc: 0.9816\n",
      "Epoch 19/50\n",
      "20s - loss: 0.0555 - acc: 0.9833\n",
      "Epoch 20/50\n",
      "16s - loss: 0.0510 - acc: 0.9845\n",
      "Epoch 21/50\n",
      "16s - loss: 0.0451 - acc: 0.9869\n",
      "Epoch 22/50\n",
      "15s - loss: 0.0410 - acc: 0.9879\n",
      "Epoch 23/50\n",
      "14s - loss: 0.0377 - acc: 0.9888\n",
      "Epoch 24/50\n",
      "15s - loss: 0.0340 - acc: 0.9897\n",
      "Epoch 25/50\n",
      "14s - loss: 0.0301 - acc: 0.9915\n",
      "Epoch 26/50\n",
      "14s - loss: 0.0256 - acc: 0.9929\n",
      "Epoch 27/50\n",
      "14s - loss: 0.0245 - acc: 0.9936\n",
      "Epoch 28/50\n",
      "14s - loss: 0.0220 - acc: 0.9940\n",
      "Epoch 29/50\n",
      "16s - loss: 0.0198 - acc: 0.9948\n",
      "Epoch 30/50\n",
      "14s - loss: 0.0178 - acc: 0.9955\n",
      "Epoch 31/50\n",
      "14s - loss: 0.0151 - acc: 0.9965\n",
      "Epoch 32/50\n",
      "16s - loss: 0.0136 - acc: 0.9968\n",
      "Epoch 33/50\n",
      "15s - loss: 0.0122 - acc: 0.9969\n",
      "Epoch 34/50\n",
      "16s - loss: 0.0105 - acc: 0.9977\n",
      "Epoch 35/50\n",
      "15s - loss: 0.0083 - acc: 0.9986\n",
      "Epoch 36/50\n",
      "17s - loss: 0.0077 - acc: 0.9986\n",
      "Epoch 37/50\n",
      "14s - loss: 0.0066 - acc: 0.9991\n",
      "Epoch 38/50\n",
      "16s - loss: 0.0060 - acc: 0.9991\n",
      "Epoch 39/50\n",
      "20s - loss: 0.0060 - acc: 0.9989\n",
      "Epoch 40/50\n",
      "16s - loss: 0.0046 - acc: 0.9995\n",
      "Epoch 41/50\n",
      "15s - loss: 0.0040 - acc: 0.9996\n",
      "Epoch 42/50\n",
      "14s - loss: 0.0035 - acc: 0.9998\n",
      "Epoch 43/50\n",
      "14s - loss: 0.0035 - acc: 0.9997\n",
      "Epoch 44/50\n",
      "18s - loss: 0.0031 - acc: 0.9998\n",
      "Epoch 45/50\n",
      "16s - loss: 0.0029 - acc: 0.9999\n",
      "Epoch 46/50\n",
      "15s - loss: 0.0027 - acc: 0.9998\n",
      "Epoch 47/50\n",
      "14s - loss: 0.0026 - acc: 0.9999\n",
      "Epoch 48/50\n",
      "14s - loss: 0.0024 - acc: 0.9999\n",
      "Epoch 49/50\n",
      "16s - loss: 0.0023 - acc: 0.9999\n",
      "Epoch 50/50\n",
      "15s - loss: 0.0023 - acc: 0.9999\n",
      " 9984/10000 [============================>.] - ETA: 0s  Loss:  0.0943529336645  , acc: 0.9784\n"
     ]
    }
   ],
   "source": [
    "model4 = Sequential()\n",
    "model4.add(Dense(200, input_dim=784, init='uniform', activation='sigmoid'))\n",
    "model4.add(Dense(200, init='uniform', activation='sigmoid'))\n",
    "model4.add(Dense(100, init='uniform', activation='sigmoid'))\n",
    "model4.add(Dense(10,  init='uniform', activation='softmax'))\n",
    "sgd = SGD(lr=0.1) \n",
    "model4.compile(loss='categorical_crossentropy', optimizer=sgd, metrics=['accuracy'])\n",
    "model4.fit(mnist.train.images, mnist.train.labels, batch_size=16, nb_epoch=50, verbose=2)\n",
    "scores = model4.evaluate(mnist.test.images, mnist.test.labels);\n",
    "print('  Loss: ', scores[0], ' , acc:', scores[1])"
   ]
  },
  {
   "cell_type": "markdown",
   "metadata": {},
   "source": [
    "With more hidden layers, the trained model shows almost perfect accuracy (99.99%). For the test set, the model also shows to have accuracy of 98%. However, more hidden layers needs more iterations to get converegence. For example, at the beginning few epoches, the model accuracies are 0.1069 and 0.1193, which are worse than that using one hidden layer."
   ]
  },
  {
   "cell_type": "markdown",
   "metadata": {},
   "source": [
    "### (e) Initialization\n",
    "\n",
    "#### Remove init = 'uniform'"
   ]
  },
  {
   "cell_type": "code",
   "execution_count": 76,
   "metadata": {
    "collapsed": false
   },
   "outputs": [
    {
     "name": "stdout",
     "output_type": "stream",
     "text": [
      "Epoch 1/50\n",
      "14s - loss: 1.0521 - acc: 0.6377\n",
      "Epoch 2/50\n",
      "14s - loss: 0.3380 - acc: 0.9008\n",
      "Epoch 3/50\n",
      "14s - loss: 0.2532 - acc: 0.9256\n",
      "Epoch 4/50\n",
      "14s - loss: 0.1984 - acc: 0.9411\n",
      "Epoch 5/50\n",
      "14s - loss: 0.1609 - acc: 0.9523\n",
      "Epoch 6/50\n",
      "14s - loss: 0.1370 - acc: 0.9585\n",
      "Epoch 7/50\n",
      "14s - loss: 0.1172 - acc: 0.9651\n",
      "Epoch 8/50\n",
      "14s - loss: 0.1027 - acc: 0.9688\n",
      "Epoch 9/50\n",
      "14s - loss: 0.0891 - acc: 0.9733\n",
      "Epoch 10/50\n",
      "14s - loss: 0.0800 - acc: 0.9763\n",
      "Epoch 11/50\n",
      "15s - loss: 0.0715 - acc: 0.9777\n",
      "Epoch 12/50\n",
      "15s - loss: 0.0639 - acc: 0.9802\n",
      "Epoch 13/50\n",
      "14s - loss: 0.0560 - acc: 0.9832\n",
      "Epoch 14/50\n",
      "14s - loss: 0.0501 - acc: 0.9850\n",
      "Epoch 15/50\n",
      "15s - loss: 0.0443 - acc: 0.9863\n",
      "Epoch 16/50\n",
      "20s - loss: 0.0392 - acc: 0.9882\n",
      "Epoch 17/50\n",
      "17s - loss: 0.0353 - acc: 0.9897\n",
      "Epoch 18/50\n",
      "17s - loss: 0.0313 - acc: 0.9908\n",
      "Epoch 19/50\n",
      "16s - loss: 0.0275 - acc: 0.9918\n",
      "Epoch 20/50\n",
      "23s - loss: 0.0252 - acc: 0.9922\n",
      "Epoch 21/50\n",
      "21s - loss: 0.0201 - acc: 0.9948\n",
      "Epoch 22/50\n",
      "14s - loss: 0.0188 - acc: 0.9944\n",
      "Epoch 23/50\n",
      "14s - loss: 0.0157 - acc: 0.9958\n",
      "Epoch 24/50\n",
      "15s - loss: 0.0142 - acc: 0.9962\n",
      "Epoch 25/50\n",
      "15s - loss: 0.0120 - acc: 0.9971\n",
      "Epoch 26/50\n",
      "13s - loss: 0.0104 - acc: 0.9975\n",
      "Epoch 27/50\n",
      "14s - loss: 0.0088 - acc: 0.9981\n",
      "Epoch 28/50\n",
      "16s - loss: 0.0076 - acc: 0.9987\n",
      "Epoch 29/50\n",
      "14s - loss: 0.0063 - acc: 0.9991\n",
      "Epoch 30/50\n",
      "14s - loss: 0.0056 - acc: 0.9991\n",
      "Epoch 31/50\n",
      "13s - loss: 0.0047 - acc: 0.9995\n",
      "Epoch 32/50\n",
      "14s - loss: 0.0041 - acc: 0.9997\n",
      "Epoch 33/50\n",
      "14s - loss: 0.0034 - acc: 0.9997\n",
      "Epoch 34/50\n",
      "14s - loss: 0.0031 - acc: 0.9999\n",
      "Epoch 35/50\n",
      "14s - loss: 0.0028 - acc: 0.9998\n",
      "Epoch 36/50\n",
      "14s - loss: 0.0025 - acc: 0.9999\n",
      "Epoch 37/50\n",
      "15s - loss: 0.0023 - acc: 1.0000\n",
      "Epoch 38/50\n",
      "15s - loss: 0.0022 - acc: 0.9999\n",
      "Epoch 39/50\n",
      "13s - loss: 0.0021 - acc: 0.9999\n",
      "Epoch 40/50\n",
      "14s - loss: 0.0019 - acc: 0.9999\n",
      "Epoch 41/50\n",
      "14s - loss: 0.0017 - acc: 0.9999\n",
      "Epoch 42/50\n",
      "14s - loss: 0.0016 - acc: 1.0000\n",
      "Epoch 43/50\n",
      "15s - loss: 0.0015 - acc: 0.9999\n",
      "Epoch 44/50\n",
      "15s - loss: 0.0014 - acc: 1.0000\n",
      "Epoch 45/50\n",
      "17s - loss: 0.0014 - acc: 1.0000\n",
      "Epoch 46/50\n",
      "17s - loss: 0.0013 - acc: 1.0000\n",
      "Epoch 47/50\n",
      "15s - loss: 0.0012 - acc: 1.0000\n",
      "Epoch 48/50\n",
      "17s - loss: 0.0012 - acc: 1.0000\n",
      "Epoch 49/50\n",
      "16s - loss: 0.0011 - acc: 1.0000\n",
      "Epoch 50/50\n",
      "14s - loss: 0.0011 - acc: 1.0000\n",
      "10000/10000 [==============================] - 1s     \n",
      "  Loss:  0.0930763677595  , acc: 0.9801\n"
     ]
    }
   ],
   "source": [
    "model5 = Sequential()\n",
    "model5.add(Dense(200, input_dim=784, activation='sigmoid'))\n",
    "model5.add(Dense(200, activation='sigmoid'))\n",
    "model5.add(Dense(100, activation='sigmoid'))\n",
    "model5.add(Dense(10,  activation='softmax'))\n",
    "sgd = SGD(lr=0.1) \n",
    "model5.compile(loss='categorical_crossentropy', optimizer=sgd, metrics=['accuracy'])\n",
    "model5.fit(mnist.train.images, mnist.train.labels, batch_size=16, nb_epoch=50, verbose=2)\n",
    "scores = model5.evaluate(mnist.test.images, mnist.test.labels);\n",
    "print('  Loss: ', scores[0], ' , acc:', scores[1])"
   ]
  },
  {
   "cell_type": "markdown",
   "metadata": {},
   "source": [
    "In the previous neural network, the weight parameters were initialized by a uniform function. Here we generate the parameters using default initialization function in Keras, showing that the early epoches the model has better performance than one using uniform initialization function."
   ]
  },
  {
   "cell_type": "markdown",
   "metadata": {},
   "source": [
    "### (f) Implement relu activation in the hidden layers\n",
    "\n",
    "#### sigmoid activcation -> relu activaction "
   ]
  },
  {
   "cell_type": "code",
   "execution_count": 78,
   "metadata": {
    "collapsed": false
   },
   "outputs": [
    {
     "name": "stdout",
     "output_type": "stream",
     "text": [
      "Epoch 1/30\n",
      "15s - loss: 0.2487 - acc: 0.9227\n",
      "Epoch 2/30\n",
      "17s - loss: 0.1063 - acc: 0.9667\n",
      "Epoch 3/30\n",
      "17s - loss: 0.0752 - acc: 0.9770\n",
      "Epoch 4/30\n",
      "18s - loss: 0.0563 - acc: 0.9823\n",
      "Epoch 5/30\n",
      "19s - loss: 0.0436 - acc: 0.9862\n",
      "Epoch 6/30\n",
      "16s - loss: 0.0368 - acc: 0.9880\n",
      "Epoch 7/30\n",
      "16s - loss: 0.0309 - acc: 0.9903\n",
      "Epoch 8/30\n",
      "16s - loss: 0.0248 - acc: 0.9921\n",
      "Epoch 9/30\n",
      "18s - loss: 0.0187 - acc: 0.9939\n",
      "Epoch 10/30\n",
      "17s - loss: 0.0179 - acc: 0.9943\n",
      "Epoch 11/30\n",
      "14s - loss: 0.0200 - acc: 0.9934\n",
      "Epoch 12/30\n",
      "14s - loss: 0.0131 - acc: 0.9958\n",
      "Epoch 13/30\n",
      "13s - loss: 0.0151 - acc: 0.9951\n",
      "Epoch 14/30\n",
      "14s - loss: 0.0140 - acc: 0.9957\n",
      "Epoch 15/30\n",
      "13s - loss: 0.0104 - acc: 0.9968\n",
      "Epoch 16/30\n",
      "14s - loss: 0.0091 - acc: 0.9973\n",
      "Epoch 17/30\n",
      "14s - loss: 0.0124 - acc: 0.9960\n",
      "Epoch 18/30\n",
      "15s - loss: 0.0078 - acc: 0.9975\n",
      "Epoch 19/30\n",
      "15s - loss: 0.0133 - acc: 0.9957\n",
      "Epoch 20/30\n",
      "14s - loss: 0.0059 - acc: 0.9981\n",
      "Epoch 21/30\n",
      "13s - loss: 0.0048 - acc: 0.9984\n",
      "Epoch 22/30\n",
      "13s - loss: 0.0118 - acc: 0.9961\n",
      "Epoch 23/30\n",
      "13s - loss: 0.0115 - acc: 0.9967\n",
      "Epoch 24/30\n",
      "13s - loss: 0.0053 - acc: 0.9986\n",
      "Epoch 25/30\n",
      "13s - loss: 0.0033 - acc: 0.9989\n",
      "Epoch 26/30\n",
      "13s - loss: 6.9735e-04 - acc: 0.9998\n",
      "Epoch 27/30\n",
      "13s - loss: 0.0012 - acc: 0.9998\n",
      "Epoch 28/30\n",
      "14s - loss: 1.1801e-04 - acc: 1.0000\n",
      "Epoch 29/30\n",
      "18s - loss: 5.0030e-05 - acc: 1.0000\n",
      "Epoch 30/30\n",
      "17s - loss: 3.8850e-05 - acc: 1.0000\n",
      "10000/10000 [==============================] - 2s     \n",
      "  Loss:  0.0860895343051  , acc: 0.9837\n"
     ]
    }
   ],
   "source": [
    "model6 = Sequential()\n",
    "model6.add(Dense(200, input_dim=784, activation='relu'))\n",
    "model6.add(Dense(200, activation='relu'))\n",
    "model6.add(Dense(100, activation='relu'))\n",
    "model6.add(Dense(10,  activation='softmax'))\n",
    "sgd = SGD(lr=0.1) \n",
    "model6.compile(loss='categorical_crossentropy', optimizer=sgd, metrics=['accuracy'])\n",
    "model6.fit(mnist.train.images, mnist.train.labels, batch_size=16, nb_epoch=30, verbose=2)\n",
    "scores = model6.evaluate(mnist.test.images, mnist.test.labels);\n",
    "print('  Loss: ', scores[0], ' , acc:', scores[1])"
   ]
  },
  {
   "cell_type": "markdown",
   "metadata": {},
   "source": [
    "Using **relu** even converges faster, since in the previous case using sigmod activation function, the 100% accuracy happened at the 40-epoch, but here at 28-th epoch the model accuracy has been about 100%.\n",
    "\n",
    "#### From the benchmarks, the best network is given by multiple hidden layer. Using relu and default initialization show faster convergence for training the models. "
   ]
  },
  {
   "cell_type": "markdown",
   "metadata": {},
   "source": [
    "## 2. Prediction\n",
    "\n",
    "**model.predict(X)** gives the probability of each class, and **model.predict_classes(X)** directly gives the class. The highest probability identifies the class which the image is."
   ]
  },
  {
   "cell_type": "code",
   "execution_count": 69,
   "metadata": {
    "collapsed": false
   },
   "outputs": [
    {
     "name": "stdout",
     "output_type": "stream",
     "text": [
      "[[  2.32193374e-21   2.14999036e-14   1.09257340e-14   3.19410599e-17\n",
      "    2.05686366e-14   3.64200596e-21   1.85665959e-21   1.00000000e+00\n",
      "    2.03881241e-16   9.47486989e-13]\n",
      " [  1.03341797e-14   3.32954316e-15   1.00000000e+00   2.59395833e-17\n",
      "    6.71541410e-19   7.84372000e-19   1.95160837e-18   8.02996953e-20\n",
      "    1.56550932e-16   1.12891557e-23]\n",
      " [  1.91516280e-16   1.00000000e+00   2.94681879e-12   2.92172170e-17\n",
      "    2.73391223e-11   5.84677706e-14   3.69494583e-13   3.03999556e-12\n",
      "    4.48173009e-12   6.35018906e-14]\n",
      " [  1.00000000e+00   9.61116974e-19   2.06171094e-10   5.55445116e-15\n",
      "    3.29830585e-15   3.67964021e-14   8.74113004e-11   1.01537196e-15\n",
      "    1.00236307e-17   4.42005721e-15]\n",
      " [  1.47901592e-14   1.17368206e-13   3.26535604e-11   5.74674334e-17\n",
      "    1.00000000e+00   1.10158731e-15   9.50973512e-14   9.46095112e-12\n",
      "    5.46443782e-15   1.31592415e-09]\n",
      " [  5.44018094e-17   1.00000000e+00   1.86798683e-14   8.85652687e-18\n",
      "    1.17272997e-11   1.75686227e-16   5.23730477e-16   1.85655935e-11\n",
      "    3.88071563e-12   1.39642150e-13]\n",
      " [  9.77386659e-16   1.24402114e-16   1.74720828e-12   1.10048631e-16\n",
      "    1.00000000e+00   5.13980622e-13   5.13642514e-13   5.97644018e-14\n",
      "    2.15244955e-09   7.24317273e-10]\n",
      " [  2.47072382e-13   1.05670579e-15   2.03300565e-13   3.60258383e-07\n",
      "    1.30923722e-12   4.00177003e-09   1.21468321e-17   1.84675799e-11\n",
      "    5.92950827e-11   9.99999642e-01]]\n"
     ]
    }
   ],
   "source": [
    "predictions = model5.predict(mnist.test.images)\n",
    "print (predictions[:8])"
   ]
  },
  {
   "cell_type": "code",
   "execution_count": 71,
   "metadata": {
    "collapsed": false
   },
   "outputs": [
    {
     "name": "stdout",
     "output_type": "stream",
     "text": [
      "10000/10000 [==============================] - 0s     \n",
      "[7 2 1 0 4 1 4 9]\n"
     ]
    }
   ],
   "source": [
    "predictions = model5.predict_classes(mnist.test.images)\n",
    "print (predictions[:8])"
   ]
  },
  {
   "cell_type": "code",
   "execution_count": 72,
   "metadata": {
    "collapsed": false
   },
   "outputs": [
    {
     "data": {
      "image/png": "[encoded data removed]",
      "text/plain": [
       "<matplotlib.figure.Figure at 0x1361b79e8>"
      ]
     },
     "metadata": {},
     "output_type": "display_data"
    }
   ],
   "source": [
    "plotExamples(mnist.train.images[:8], mnist.train.labels[:8])"
   ]
  },
  {
   "cell_type": "markdown",
   "metadata": {},
   "source": [
    "## 3. Revisit the \"mse\" loss function and uniform initialization\n",
    "\n",
    "Here we will revisit the model and study how important to choose a loss function. With **mse** as loss function, even in the same neural network, the convergence is always slower than using **categorical_crossentropy**. The uniform initialization further makes the model worse. However, by choosing **relu**, we can still improve the model performance.\n",
    "\n",
    "### Using \"mse\" loss function converges more slowly"
   ]
  },
  {
   "cell_type": "code",
   "execution_count": 61,
   "metadata": {
    "collapsed": false
   },
   "outputs": [
    {
     "name": "stdout",
     "output_type": "stream",
     "text": [
      "Epoch 1/50\n",
      "8s - loss: 0.0903 - acc: 0.1160\n",
      "Epoch 2/50\n",
      "8s - loss: 0.0899 - acc: 0.1168\n",
      "Epoch 3/50\n",
      "10s - loss: 0.0898 - acc: 0.1160\n",
      "Epoch 4/50\n",
      "9s - loss: 0.0898 - acc: 0.1189\n",
      "Epoch 5/50\n",
      "8s - loss: 0.0897 - acc: 0.1362\n",
      "Epoch 6/50\n",
      "7s - loss: 0.0896 - acc: 0.1361\n",
      "Epoch 7/50\n",
      "9s - loss: 0.0895 - acc: 0.1542\n",
      "Epoch 8/50\n",
      "9s - loss: 0.0894 - acc: 0.1612\n",
      "Epoch 9/50\n",
      "11s - loss: 0.0893 - acc: 0.1933\n",
      "Epoch 10/50\n",
      "10s - loss: 0.0891 - acc: 0.1980\n",
      "Epoch 11/50\n",
      "8s - loss: 0.0889 - acc: 0.2237\n",
      "Epoch 12/50\n",
      "9s - loss: 0.0886 - acc: 0.2191\n",
      "Epoch 13/50\n",
      "7s - loss: 0.0882 - acc: 0.2411\n",
      "Epoch 14/50\n",
      "8s - loss: 0.0876 - acc: 0.2248\n",
      "Epoch 15/50\n",
      "8s - loss: 0.0866 - acc: 0.2280\n",
      "Epoch 16/50\n",
      "8s - loss: 0.0846 - acc: 0.2289\n",
      "Epoch 17/50\n",
      "9s - loss: 0.0811 - acc: 0.2535\n",
      "Epoch 18/50\n",
      "8s - loss: 0.0770 - acc: 0.3193\n",
      "Epoch 19/50\n",
      "9s - loss: 0.0734 - acc: 0.3715\n",
      "Epoch 20/50\n",
      "8s - loss: 0.0702 - acc: 0.4072\n",
      "Epoch 21/50\n",
      "8s - loss: 0.0670 - acc: 0.4420\n",
      "Epoch 22/50\n",
      "10s - loss: 0.0640 - acc: 0.4829\n",
      "Epoch 23/50\n",
      "11s - loss: 0.0609 - acc: 0.5285\n",
      "Epoch 24/50\n",
      "9s - loss: 0.0574 - acc: 0.5790\n",
      "Epoch 25/50\n",
      "8s - loss: 0.0535 - acc: 0.6294\n",
      "Epoch 26/50\n",
      "8s - loss: 0.0492 - acc: 0.6748\n",
      "Epoch 27/50\n",
      "7s - loss: 0.0450 - acc: 0.7150\n",
      "Epoch 28/50\n",
      "9s - loss: 0.0412 - acc: 0.7446\n",
      "Epoch 29/50\n",
      "8s - loss: 0.0380 - acc: 0.7675\n",
      "Epoch 30/50\n",
      "7s - loss: 0.0353 - acc: 0.7867\n",
      "Epoch 31/50\n",
      "7s - loss: 0.0329 - acc: 0.8040\n",
      "Epoch 32/50\n",
      "7s - loss: 0.0308 - acc: 0.8167\n",
      "Epoch 33/50\n",
      "7s - loss: 0.0288 - acc: 0.8295\n",
      "Epoch 34/50\n",
      "7s - loss: 0.0271 - acc: 0.8402\n",
      "Epoch 35/50\n",
      "7s - loss: 0.0256 - acc: 0.8486\n",
      "Epoch 36/50\n",
      "8s - loss: 0.0242 - acc: 0.8557\n",
      "Epoch 37/50\n",
      "7s - loss: 0.0230 - acc: 0.8618\n",
      "Epoch 38/50\n",
      "7s - loss: 0.0220 - acc: 0.8671\n",
      "Epoch 39/50\n",
      "9s - loss: 0.0210 - acc: 0.8714\n",
      "Epoch 40/50\n",
      "8s - loss: 0.0203 - acc: 0.8752\n",
      "Epoch 41/50\n",
      "8s - loss: 0.0196 - acc: 0.8791\n",
      "Epoch 42/50\n",
      "9s - loss: 0.0190 - acc: 0.8824\n",
      "Epoch 43/50\n",
      "7s - loss: 0.0185 - acc: 0.8846\n",
      "Epoch 44/50\n",
      "7s - loss: 0.0180 - acc: 0.8870\n",
      "Epoch 45/50\n",
      "8s - loss: 0.0176 - acc: 0.8892\n",
      "Epoch 46/50\n",
      "9s - loss: 0.0173 - acc: 0.8913\n",
      "Epoch 47/50\n",
      "9s - loss: 0.0169 - acc: 0.8929\n",
      "Epoch 48/50\n",
      "8s - loss: 0.0167 - acc: 0.8944\n",
      "Epoch 49/50\n",
      "8s - loss: 0.0164 - acc: 0.8959\n",
      "Epoch 50/50\n",
      "8s - loss: 0.0161 - acc: 0.8973\n",
      " 9920/10000 [============================>.] - ETA: 0s  Loss:  0.0156185688918  , acc: 0.8984\n"
     ]
    }
   ],
   "source": [
    "model7 = Sequential()\n",
    "model7.add(Dense(200, input_dim=784, activation='sigmoid'))\n",
    "model7.add(Dense(200, activation='sigmoid'))\n",
    "model7.add(Dense(100, activation='sigmoid'))\n",
    "model7.add(Dense(10, activation='softmax'))\n",
    "sgd = SGD(lr=0.1) \n",
    "model7.compile(loss='mse', optimizer=sgd, metrics=['accuracy'])\n",
    "model7.fit(mnist.train.images, mnist.train.labels, batch_size=32, nb_epoch=50, verbose=2)\n",
    "scores = model7.evaluate(mnist.test.images, mnist.test.labels);\n",
    "print('  Loss: ', scores[0], ' , acc:', scores[1])"
   ]
  },
  {
   "cell_type": "markdown",
   "metadata": {},
   "source": [
    "### Using uniform initialization + mse loss shows poor performance"
   ]
  },
  {
   "cell_type": "code",
   "execution_count": 62,
   "metadata": {
    "collapsed": false
   },
   "outputs": [
    {
     "name": "stdout",
     "output_type": "stream",
     "text": [
      "Epoch 1/30\n",
      "8s - loss: 0.0900 - acc: 0.1095\n",
      "Epoch 2/30\n",
      "7s - loss: 0.0900 - acc: 0.1115\n",
      "Epoch 3/30\n",
      "7s - loss: 0.0900 - acc: 0.1117\n",
      "Epoch 4/30\n",
      "7s - loss: 0.0900 - acc: 0.1114\n",
      "Epoch 5/30\n",
      "8s - loss: 0.0900 - acc: 0.1117\n",
      "Epoch 6/30\n",
      "10s - loss: 0.0900 - acc: 0.1117\n",
      "Epoch 7/30\n",
      "8s - loss: 0.0900 - acc: 0.1119\n",
      "Epoch 8/30\n",
      "9s - loss: 0.0900 - acc: 0.1121\n",
      "Epoch 9/30\n",
      "10s - loss: 0.0900 - acc: 0.1117\n",
      "Epoch 10/30\n",
      "7s - loss: 0.0900 - acc: 0.1123\n",
      "Epoch 11/30\n",
      "7s - loss: 0.0900 - acc: 0.1113\n",
      "Epoch 12/30\n",
      "10s - loss: 0.0900 - acc: 0.1120\n",
      "Epoch 13/30\n",
      "10s - loss: 0.0900 - acc: 0.1120\n",
      "Epoch 14/30\n",
      "10s - loss: 0.0900 - acc: 0.1123\n",
      "Epoch 15/30\n",
      "9s - loss: 0.0900 - acc: 0.1121\n",
      "Epoch 16/30\n",
      "7s - loss: 0.0900 - acc: 0.1123\n",
      "Epoch 17/30\n",
      "8s - loss: 0.0900 - acc: 0.1120\n",
      "Epoch 18/30\n",
      "8s - loss: 0.0900 - acc: 0.1117\n",
      "Epoch 19/30\n",
      "9s - loss: 0.0900 - acc: 0.1119\n",
      "Epoch 20/30\n",
      "8s - loss: 0.0900 - acc: 0.1122\n",
      "Epoch 21/30\n",
      "7s - loss: 0.0900 - acc: 0.1123\n",
      "Epoch 22/30\n",
      "11s - loss: 0.0900 - acc: 0.1123\n",
      "Epoch 23/30\n",
      "14s - loss: 0.0900 - acc: 0.1123\n",
      "Epoch 24/30\n",
      "12s - loss: 0.0900 - acc: 0.1123\n",
      "Epoch 25/30\n",
      "9s - loss: 0.0900 - acc: 0.1123\n",
      "Epoch 26/30\n",
      "8s - loss: 0.0900 - acc: 0.1123\n",
      "Epoch 27/30\n",
      "7s - loss: 0.0900 - acc: 0.1120\n",
      "Epoch 28/30\n",
      "7s - loss: 0.0900 - acc: 0.1119\n",
      "Epoch 29/30\n",
      "7s - loss: 0.0900 - acc: 0.1120\n",
      "Epoch 30/30\n",
      "7s - loss: 0.0900 - acc: 0.1119\n",
      " 9888/10000 [============================>.] - ETA: 0s  Loss:  0.0899695995569  , acc: 0.1135\n"
     ]
    }
   ],
   "source": [
    "model8 = Sequential()\n",
    "model8.add(Dense(200, input_dim=784, init='uniform', activation='sigmoid'))\n",
    "model8.add(Dense(200, init='uniform', activation='sigmoid'))\n",
    "model8.add(Dense(100, init='uniform', activation='sigmoid'))\n",
    "model8.add(Dense(10, init='uniform', activation='softmax'))\n",
    "sgd = SGD(lr=0.1) \n",
    "model8.compile(loss='mse', optimizer=sgd, metrics=['accuracy'])\n",
    "model8.fit(mnist.train.images, mnist.train.labels, batch_size=32, nb_epoch=30, verbose=2)\n",
    "scores = model8.evaluate(mnist.test.images, mnist.test.labels);\n",
    "print('  Loss: ', scores[0], ' , acc:', scores[1])"
   ]
  },
  {
   "cell_type": "markdown",
   "metadata": {},
   "source": [
    "### Using relu activaction function slightly better than using sigmoid\n",
    "\n",
    "In the previous case, we saw the trained model got stuck to have low accuracy. However, using **relu** is helpful.  "
   ]
  },
  {
   "cell_type": "code",
   "execution_count": 74,
   "metadata": {
    "collapsed": false
   },
   "outputs": [
    {
     "name": "stdout",
     "output_type": "stream",
     "text": [
      "Epoch 1/50\n",
      "8s - loss: 0.0900 - acc: 0.1209\n",
      "Epoch 2/50\n",
      "8s - loss: 0.0899 - acc: 0.1173\n",
      "Epoch 3/50\n",
      "9s - loss: 0.0897 - acc: 0.1925\n",
      "Epoch 4/50\n",
      "9s - loss: 0.0892 - acc: 0.2190\n",
      "Epoch 5/50\n",
      "7s - loss: 0.0848 - acc: 0.2252\n",
      "Epoch 6/50\n",
      "7s - loss: 0.0761 - acc: 0.3729\n",
      "Epoch 7/50\n",
      "7s - loss: 0.0491 - acc: 0.6571\n",
      "Epoch 8/50\n",
      "7s - loss: 0.0268 - acc: 0.8260\n",
      "Epoch 9/50\n",
      "7s - loss: 0.0208 - acc: 0.8652\n",
      "Epoch 10/50\n",
      "7s - loss: 0.0181 - acc: 0.8823\n",
      "Epoch 11/50\n",
      "7s - loss: 0.0164 - acc: 0.8934\n",
      "Epoch 12/50\n",
      "8s - loss: 0.0150 - acc: 0.9032\n",
      "Epoch 13/50\n",
      "7s - loss: 0.0137 - acc: 0.9114\n",
      "Epoch 14/50\n",
      "10s - loss: 0.0127 - acc: 0.9188\n",
      "Epoch 15/50\n",
      "8s - loss: 0.0116 - acc: 0.9256\n",
      "Epoch 16/50\n",
      "8s - loss: 0.0107 - acc: 0.9314\n",
      "Epoch 17/50\n",
      "8s - loss: 0.0099 - acc: 0.9379\n",
      "Epoch 18/50\n",
      "7s - loss: 0.0092 - acc: 0.9415\n",
      "Epoch 19/50\n",
      "7s - loss: 0.0086 - acc: 0.9461\n",
      "Epoch 20/50\n",
      "7s - loss: 0.0080 - acc: 0.9495\n",
      "Epoch 21/50\n",
      "7s - loss: 0.0075 - acc: 0.9527\n",
      "Epoch 22/50\n",
      "7s - loss: 0.0071 - acc: 0.9553\n",
      "Epoch 23/50\n",
      "8s - loss: 0.0066 - acc: 0.9589\n",
      "Epoch 24/50\n",
      "7s - loss: 0.0063 - acc: 0.9619\n",
      "Epoch 25/50\n",
      "7s - loss: 0.0059 - acc: 0.9639\n",
      "Epoch 26/50\n",
      "7s - loss: 0.0056 - acc: 0.9663\n",
      "Epoch 27/50\n",
      "8s - loss: 0.0053 - acc: 0.9678\n",
      "Epoch 28/50\n",
      "8s - loss: 0.0051 - acc: 0.9693\n",
      "Epoch 29/50\n",
      "8s - loss: 0.0049 - acc: 0.9706\n",
      "Epoch 30/50\n",
      "7s - loss: 0.0046 - acc: 0.9726\n",
      "Epoch 31/50\n",
      "8s - loss: 0.0044 - acc: 0.9735\n",
      "Epoch 32/50\n",
      "8s - loss: 0.0042 - acc: 0.9748\n",
      "Epoch 33/50\n",
      "7s - loss: 0.0040 - acc: 0.9764\n",
      "Epoch 34/50\n",
      "7s - loss: 0.0039 - acc: 0.9775\n",
      "Epoch 35/50\n",
      "7s - loss: 0.0037 - acc: 0.9786\n",
      "Epoch 36/50\n",
      "7s - loss: 0.0036 - acc: 0.9789\n",
      "Epoch 37/50\n",
      "7s - loss: 0.0034 - acc: 0.9803\n",
      "Epoch 38/50\n",
      "7s - loss: 0.0033 - acc: 0.9817\n",
      "Epoch 39/50\n",
      "7s - loss: 0.0032 - acc: 0.9814\n",
      "Epoch 40/50\n",
      "7s - loss: 0.0031 - acc: 0.9828\n",
      "Epoch 41/50\n",
      "7s - loss: 0.0030 - acc: 0.9835\n",
      "Epoch 42/50\n",
      "7s - loss: 0.0029 - acc: 0.9840\n",
      "Epoch 43/50\n",
      "7s - loss: 0.0027 - acc: 0.9850\n",
      "Epoch 44/50\n",
      "7s - loss: 0.0027 - acc: 0.9854\n",
      "Epoch 45/50\n",
      "7s - loss: 0.0026 - acc: 0.9861\n",
      "Epoch 46/50\n",
      "7s - loss: 0.0025 - acc: 0.9866\n",
      "Epoch 47/50\n",
      "7s - loss: 0.0024 - acc: 0.9873\n",
      "Epoch 48/50\n",
      "7s - loss: 0.0023 - acc: 0.9875\n",
      "Epoch 49/50\n",
      "7s - loss: 0.0022 - acc: 0.9882\n",
      "Epoch 50/50\n",
      "7s - loss: 0.0022 - acc: 0.9891\n",
      " 9888/10000 [============================>.] - ETA: 0s  Loss:  0.00430187083261  , acc: 0.9728\n"
     ]
    }
   ],
   "source": [
    "model9 = Sequential()\n",
    "model9.add(Dense(200, input_dim=784, init='uniform', activation='relu'))\n",
    "model9.add(Dense(200, init='uniform', activation='relu'))\n",
    "model9.add(Dense(100, init='uniform', activation='relu'))\n",
    "model9.add(Dense(10, init='uniform', activation='softmax'))\n",
    "sgd = SGD(lr=0.1) \n",
    "model9.compile(loss='mse', optimizer=sgd, metrics=['accuracy'])\n",
    "model9.fit(mnist.train.images, mnist.train.labels, batch_size=32, nb_epoch=50, verbose=2)\n",
    "scores = model9.evaluate(mnist.test.images, mnist.test.labels);\n",
    "print('  Loss: ', scores[0], ' , acc:', scores[1])"
   ]
  },
  {
   "cell_type": "markdown",
   "metadata": {},
   "source": [
    "## Summary\n",
    "\n",
    "The best neural network is given by the 3-hidden-layer network structure 784-200-200-100-10, and using **relu** as activation function in the hidden layers and **softmax** in the output layer as well as the default initialization to train the models. For the multilcass classification, **categorical_crossentropy** loss function is preferred."
   ]
  },
  {
   "cell_type": "code",
   "execution_count": null,
   "metadata": {
    "collapsed": true
   },
   "outputs": [],
   "source": []
  }
 ],
 "metadata": {
  "kernelspec": {
   "display_name": "Python 3",
   "language": "python",
   "name": "python3"
  },
  "language_info": {
   "codemirror_mode": {
    "name": "ipython",
    "version": 3
   },
   "file_extension": ".py",
   "mimetype": "text/x-python",
   "name": "python",
   "nbconvert_exporter": "python",
   "pygments_lexer": "ipython3",
   "version": "3.5.2"
  }
 },
 "nbformat": 4,
 "nbformat_minor": 0
}
