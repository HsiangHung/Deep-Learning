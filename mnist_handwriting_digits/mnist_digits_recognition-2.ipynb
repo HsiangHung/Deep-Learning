{
 "cells": [
  {
   "cell_type": "markdown",
   "metadata": {},
   "source": [
    "# MNIST Dataset-2: Impact of Standardization and Normalization\n",
    "\n",
    "In this note, we still model neural networks for recognition of handwritten digits using **mnist** data, but fetch the datasets directly from Keras, rather than one from Yan LeCun's web. \n",
    "\n",
    "The raw data from Keras is neither standardized nor normalized, i.e. the numbers in each pixel can be 0-255 (The numbers in each pixel from Yan LeCun's web are 0-1, which has been rescaled). We found that in this case the learning rate of stochastic gradient descent is sensitive to the model accuracy. Sometimes using large rate ($\\alpha =0.1$) will result in poor performance, so we have to be careful to select a smaller value of $\\alpha$, such as $\\alpha =0.01$ for numerical optimization.\n",
    "\n",
    "However, with **considering standardization/normalization**, the learning parameters and network structure are **less** sensitive. Roughly speaking, the learning processes using the preprocessed data are more efficient and accurate tha using the raw data. In the following, we will demonstrate the difference."
   ]
  },
  {
   "cell_type": "code",
   "execution_count": 1,
   "metadata": {
    "collapsed": false
   },
   "outputs": [
    {
     "name": "stderr",
     "output_type": "stream",
     "text": [
      "Using TensorFlow backend.\n"
     ]
    }
   ],
   "source": [
    "import keras"
   ]
  },
  {
   "cell_type": "code",
   "execution_count": 2,
   "metadata": {
    "collapsed": true
   },
   "outputs": [],
   "source": [
    "from keras.models import Sequential\n",
    "from keras.layers.core import Dense, Activation\n",
    "from keras.optimizers import SGD"
   ]
  },
  {
   "cell_type": "code",
   "execution_count": 3,
   "metadata": {
    "collapsed": true
   },
   "outputs": [],
   "source": [
    "import matplotlib.pyplot as plt\n",
    "import numpy as np\n",
    "% matplotlib inline"
   ]
  },
  {
   "cell_type": "markdown",
   "metadata": {},
   "source": [
    "## 0. The Raw MNIST database from Keras\n",
    "\n",
    "In this version, we fetch the **mnist** data from Keras:"
   ]
  },
  {
   "cell_type": "code",
   "execution_count": 4,
   "metadata": {
    "collapsed": false
   },
   "outputs": [],
   "source": [
    "from keras.datasets import mnist\n",
    "(X_train, y_train), (X_test, y_test) = mnist.load_data()"
   ]
  },
  {
   "cell_type": "markdown",
   "metadata": {},
   "source": [
    "### Each MNIST image is represented by 28 pixels by 28 pixels:\n",
    "\n",
    "Note the raw data format is a two-dimensional array of 28 pixels by 28 pixels. To input Keras, we need to reshape to a one-dimensional array of 784: "
   ]
  },
  {
   "cell_type": "code",
   "execution_count": 5,
   "metadata": {
    "collapsed": false
   },
   "outputs": [
    {
     "data": {
      "text/plain": [
       "((60000, 28, 28), (60000,), numpy.ndarray)"
      ]
     },
     "execution_count": 5,
     "metadata": {},
     "output_type": "execute_result"
    }
   ],
   "source": [
    "X_train.shape, y_train.shape, type(X_train)"
   ]
  },
  {
   "cell_type": "code",
   "execution_count": 6,
   "metadata": {
    "collapsed": false
   },
   "outputs": [
    {
     "data": {
      "text/plain": [
       "((10000, 28, 28), (10000,))"
      ]
     },
     "execution_count": 6,
     "metadata": {},
     "output_type": "execute_result"
    }
   ],
   "source": [
    "X_test.shape, y_test.shape"
   ]
  },
  {
   "cell_type": "markdown",
   "metadata": {},
   "source": [
    "### Reshape the MNIST data in 784-dimensional vector space with integers [0,255]:"
   ]
  },
  {
   "cell_type": "code",
   "execution_count": 7,
   "metadata": {
    "collapsed": true
   },
   "outputs": [],
   "source": [
    "X_train = X_train.reshape(X_train.shape[0], 784)\n",
    "X_test = X_test.reshape(X_test.shape[0], 784)"
   ]
  },
  {
   "cell_type": "code",
   "execution_count": 8,
   "metadata": {
    "collapsed": false
   },
   "outputs": [
    {
     "data": {
      "text/plain": [
       "((60000, 784), (10000, 784), numpy.ndarray)"
      ]
     },
     "execution_count": 8,
     "metadata": {},
     "output_type": "execute_result"
    }
   ],
   "source": [
    "X_train.shape, X_test.shape, type(X_train)"
   ]
  },
  {
   "cell_type": "code",
   "execution_count": 9,
   "metadata": {
    "collapsed": false
   },
   "outputs": [],
   "source": [
    "from keras.utils import np_utils\n",
    "y_train = np_utils.to_categorical(y_train)\n",
    "y_test = np_utils.to_categorical(y_test)"
   ]
  },
  {
   "cell_type": "code",
   "execution_count": 10,
   "metadata": {
    "collapsed": false
   },
   "outputs": [
    {
     "data": {
      "text/plain": [
       "((60000, 10), (10000, 10))"
      ]
     },
     "execution_count": 10,
     "metadata": {},
     "output_type": "execute_result"
    }
   ],
   "source": [
    "y_train.shape, y_test.shape"
   ]
  },
  {
   "cell_type": "code",
   "execution_count": 11,
   "metadata": {
    "collapsed": false
   },
   "outputs": [
    {
     "data": {
      "text/plain": [
       "array([  0,   0,   0,   0,   0,   0,   0,   0,   0,   0,   0,   0,   0,\n",
       "         0,   0,   0,   0,   0,   0,   0,   0,   0,   0,   0,   0,   0,\n",
       "         0,   0,   0,   0,   0,   0,   0,   0,   0,   0,   0,   0,   0,\n",
       "         0,   0,   0,   0,   0,   0,   0,   0,   0,   0,   0,   0,   0,\n",
       "         0,   0,   0,   0,   0,   0,   0,   0,   0,   0,   0,   0,   0,\n",
       "         0,   0,   0,   0,   0,   0,   0,   0,   0,   0,   0,   0,   0,\n",
       "         0,   0,   0,   0,   0,   0,   0,   0,   0,   0,   0,   0,   0,\n",
       "         0,   0,   0,   0,   0,   0,   0,   0,   0,   0,   0,   0,   0,\n",
       "         0,   0,   0,   0,   0,   0,   0,   0,   0,   0,   0,   0,   0,\n",
       "         0,   0,   0,   0,   0,   0,   0,   0,   0,   0,   0,   0,   0,\n",
       "         0,   0,   0,   0,   0,   0,   0,   0,   0,   0,   0,   0,   0,\n",
       "         0,   0,   0,   0,   0,   0,   0,   0,   0,   3,  18,  18,  18,\n",
       "       126, 136, 175,  26, 166, 255, 247, 127,   0,   0,   0,   0,   0,\n",
       "         0,   0,   0,   0,   0,   0,   0,  30,  36,  94, 154, 170, 253,\n",
       "       253, 253, 253, 253, 225, 172, 253, 242, 195,  64,   0,   0,   0,\n",
       "         0,   0,   0,   0,   0,   0,   0,   0,  49, 238, 253, 253, 253,\n",
       "       253, 253, 253, 253, 253, 251,  93,  82,  82,  56,  39,   0,   0,\n",
       "         0,   0,   0,   0,   0,   0,   0,   0,   0,   0,  18, 219, 253,\n",
       "       253, 253, 253, 253, 198, 182, 247, 241,   0,   0,   0,   0,   0,\n",
       "         0,   0,   0,   0,   0,   0,   0,   0,   0,   0,   0,   0,   0,\n",
       "        80, 156, 107, 253, 253, 205,  11,   0,  43, 154,   0,   0,   0,\n",
       "         0,   0,   0,   0,   0,   0,   0,   0,   0,   0,   0,   0,   0,\n",
       "         0,   0,   0,  14,   1, 154, 253,  90,   0,   0,   0,   0,   0,\n",
       "         0,   0,   0,   0,   0,   0,   0,   0,   0,   0,   0,   0,   0,\n",
       "         0,   0,   0,   0,   0,   0,   0, 139, 253, 190,   2,   0,   0,\n",
       "         0,   0,   0,   0,   0,   0,   0,   0,   0,   0,   0,   0,   0,\n",
       "         0,   0,   0,   0,   0,   0,   0,   0,   0,  11, 190, 253,  70,\n",
       "         0,   0,   0,   0,   0,   0,   0,   0,   0,   0,   0,   0,   0,\n",
       "         0,   0,   0,   0,   0,   0,   0,   0,   0,   0,   0,   0,  35,\n",
       "       241, 225, 160, 108,   1,   0,   0,   0,   0,   0,   0,   0,   0,\n",
       "         0,   0,   0,   0,   0,   0,   0,   0,   0,   0,   0,   0,   0,\n",
       "         0,   0,  81, 240, 253, 253, 119,  25,   0,   0,   0,   0,   0,\n",
       "         0,   0,   0,   0,   0,   0,   0,   0,   0,   0,   0,   0,   0,\n",
       "         0,   0,   0,   0,   0,  45, 186, 253, 253, 150,  27,   0,   0,\n",
       "         0,   0,   0,   0,   0,   0,   0,   0,   0,   0,   0,   0,   0,\n",
       "         0,   0,   0,   0,   0,   0,   0,   0,  16,  93, 252, 253, 187,\n",
       "         0,   0,   0,   0,   0,   0,   0,   0,   0,   0,   0,   0,   0,\n",
       "         0,   0,   0,   0,   0,   0,   0,   0,   0,   0,   0,   0, 249,\n",
       "       253, 249,  64,   0,   0,   0,   0,   0,   0,   0,   0,   0,   0,\n",
       "         0,   0,   0,   0,   0,   0,   0,   0,   0,   0,   0,  46, 130,\n",
       "       183, 253, 253, 207,   2,   0,   0,   0,   0,   0,   0,   0,   0,\n",
       "         0,   0,   0,   0,   0,   0,   0,   0,   0,   0,   0,  39, 148,\n",
       "       229, 253, 253, 253, 250, 182,   0,   0,   0,   0,   0,   0,   0,\n",
       "         0,   0,   0,   0,   0,   0,   0,   0,   0,   0,   0,  24, 114,\n",
       "       221, 253, 253, 253, 253, 201,  78,   0,   0,   0,   0,   0,   0,\n",
       "         0,   0,   0,   0,   0,   0,   0,   0,   0,   0,   0,  23,  66,\n",
       "       213, 253, 253, 253, 253, 198,  81,   2,   0,   0,   0,   0,   0,\n",
       "         0,   0,   0,   0,   0,   0,   0,   0,   0,   0,   0,  18, 171,\n",
       "       219, 253, 253, 253, 253, 195,  80,   9,   0,   0,   0,   0,   0,\n",
       "         0,   0,   0,   0,   0,   0,   0,   0,   0,   0,   0,  55, 172,\n",
       "       226, 253, 253, 253, 253, 244, 133,  11,   0,   0,   0,   0,   0,\n",
       "         0,   0,   0,   0,   0,   0,   0,   0,   0,   0,   0,   0,   0,\n",
       "       136, 253, 253, 253, 212, 135, 132,  16,   0,   0,   0,   0,   0,\n",
       "         0,   0,   0,   0,   0,   0,   0,   0,   0,   0,   0,   0,   0,\n",
       "         0,   0,   0,   0,   0,   0,   0,   0,   0,   0,   0,   0,   0,\n",
       "         0,   0,   0,   0,   0,   0,   0,   0,   0,   0,   0,   0,   0,\n",
       "         0,   0,   0,   0,   0,   0,   0,   0,   0,   0,   0,   0,   0,\n",
       "         0,   0,   0,   0,   0,   0,   0,   0,   0,   0,   0,   0,   0,\n",
       "         0,   0,   0,   0,   0,   0,   0,   0,   0,   0,   0,   0,   0,\n",
       "         0,   0,   0,   0,   0,   0,   0,   0,   0,   0,   0,   0,   0,\n",
       "         0,   0,   0,   0], dtype=uint8)"
      ]
     },
     "execution_count": 11,
     "metadata": {},
     "output_type": "execute_result"
    }
   ],
   "source": [
    "X_train[0]"
   ]
  },
  {
   "cell_type": "markdown",
   "metadata": {},
   "source": [
    "### The images:"
   ]
  },
  {
   "cell_type": "code",
   "execution_count": 12,
   "metadata": {
    "collapsed": true
   },
   "outputs": [],
   "source": [
    "def plotExamples(data, labels):\n",
    "    plt.figure(figsize=(8,5))\n",
    "    for i in range(8):\n",
    "        sub = 241 + i\n",
    "        ax = plt.subplot(sub)\n",
    "        index = np.random.randint(0, data.shape[0])\n",
    "        ax.set_title(\"num: \" + str(np.argmax(labels[index])))\n",
    "        im = np.reshape(data[index], (28, 28))\n",
    "        plt.imshow(im, cmap=\"gray\")\n",
    "    plt.show()"
   ]
  },
  {
   "cell_type": "code",
   "execution_count": 13,
   "metadata": {
    "collapsed": false
   },
   "outputs": [
    {
     "data": {
      "image/png": "[encoded data removed]",
      "text/plain": [
       "<matplotlib.figure.Figure at 0x1116bd2e8>"
      ]
     },
     "metadata": {},
     "output_type": "display_data"
    }
   ],
   "source": [
    "plotExamples(X_train, y_train)"
   ]
  },
  {
   "cell_type": "markdown",
   "metadata": {},
   "source": [
    "## 1. Preprocessing\n",
    "\n",
    "### (a) Standardization\n",
    "\n",
    "This standardization process is to standardize the data along the same features."
   ]
  },
  {
   "cell_type": "code",
   "execution_count": 14,
   "metadata": {
    "collapsed": true
   },
   "outputs": [],
   "source": [
    "from sklearn import preprocessing"
   ]
  },
  {
   "cell_type": "code",
   "execution_count": 29,
   "metadata": {
    "collapsed": false
   },
   "outputs": [
    {
     "name": "stderr",
     "output_type": "stream",
     "text": [
      "/Users/hhhung/anaconda/envs/tensorflow/lib/python3.5/site-packages/sklearn/utils/validation.py:429: DataConversionWarning: Data with input dtype uint8 was converted to float64 by StandardScaler.\n",
      "  warnings.warn(msg, _DataConversionWarning)\n"
     ]
    }
   ],
   "source": [
    "scalar = preprocessing.StandardScaler().fit(X_train)\n",
    "X_train_std = scalar.transform(X_train)\n",
    "X_test_std = scalar.transform(X_test)"
   ]
  },
  {
   "cell_type": "code",
   "execution_count": 30,
   "metadata": {
    "collapsed": false
   },
   "outputs": [
    {
     "data": {
      "text/plain": [
       "array([  0.00000000e+00,   0.00000000e+00,   0.00000000e+00,\n",
       "         0.00000000e+00,   0.00000000e+00,   0.00000000e+00,\n",
       "         0.00000000e+00,   0.00000000e+00,   0.00000000e+00,\n",
       "         0.00000000e+00,   0.00000000e+00,   0.00000000e+00,\n",
       "        -4.41807799e-03,  -5.75481961e-03,  -4.08251693e-03,\n",
       "        -4.08251693e-03,   0.00000000e+00,   0.00000000e+00,\n",
       "         0.00000000e+00,   0.00000000e+00,   0.00000000e+00,\n",
       "         0.00000000e+00,   0.00000000e+00,   0.00000000e+00,\n",
       "         0.00000000e+00,   0.00000000e+00,   0.00000000e+00,\n",
       "         0.00000000e+00,   0.00000000e+00,   0.00000000e+00,\n",
       "         0.00000000e+00,   0.00000000e+00,  -4.08251693e-03,\n",
       "        -4.70968827e-03,  -8.79934640e-03,  -1.15905591e-02,\n",
       "        -1.47589798e-02,  -1.92848546e-02,  -2.46717975e-02,\n",
       "        -2.90710271e-02,  -3.05926583e-02,  -3.11640127e-02,\n",
       "        -3.19628719e-02,  -3.02025355e-02,  -3.13102175e-02,\n",
       "        -2.83833960e-02,  -2.31191906e-02,  -1.91666260e-02,\n",
       "        -1.67723008e-02,  -1.09963601e-02,  -8.32486080e-03,\n",
       "        -4.38069356e-03,   0.00000000e+00,   0.00000000e+00,\n",
       "         0.00000000e+00,   0.00000000e+00,   0.00000000e+00,\n",
       "         0.00000000e+00,  -4.08251693e-03,  -5.39534598e-03,\n",
       "        -8.52241235e-03,  -1.19850363e-02,  -1.76534777e-02,\n",
       "        -2.77108989e-02,  -3.70200943e-02,  -5.21512802e-02,\n",
       "        -6.70362007e-02,  -8.30170484e-02,  -9.93792978e-02,\n",
       "        -1.15184128e-01,  -1.29133256e-01,  -1.38394677e-01,\n",
       "        -1.38883631e-01,  -1.31843438e-01,  -1.20429522e-01,\n",
       "        -1.01890795e-01,  -7.86049044e-02,  -5.69956130e-02,\n",
       "        -3.96576839e-02,  -2.37283861e-02,  -1.40883463e-02,\n",
       "        -7.83084068e-03,   0.00000000e+00,   0.00000000e+00,\n",
       "         0.00000000e+00,   0.00000000e+00,  -5.36837753e-03,\n",
       "        -8.87060589e-03,  -1.40708170e-02,  -2.21468098e-02,\n",
       "        -3.51801368e-02,  -5.50236802e-02,  -7.90961321e-02,\n",
       "        -1.07649012e-01,  -1.37169936e-01,  -1.67105761e-01,\n",
       "        -1.96008755e-01,  -2.24491114e-01,  -2.48655991e-01,\n",
       "        -2.62117971e-01,  -2.62596902e-01,  -2.47855903e-01,\n",
       "        -2.21947003e-01,  -1.87211405e-01,  -1.47640132e-01,\n",
       "        -1.08164364e-01,  -7.68121117e-02,  -4.70752996e-02,\n",
       "        -3.02019676e-02,  -1.52412436e-02,  -5.28371965e-03,\n",
       "         0.00000000e+00,   0.00000000e+00,  -4.08251693e-03,\n",
       "        -7.76342302e-03,  -1.48932548e-02,  -2.39627505e-02,\n",
       "        -5.03408980e-02,  -7.87674703e-02,  -1.16181540e-01,\n",
       "        -1.61247562e-01,  -2.11961635e-01,  -2.66898731e-01,\n",
       "        -3.25678010e-01,  -3.90241548e-01,  -4.52076376e-01,\n",
       "        -4.99397984e-01,  -5.23428324e-01,  -5.17618894e-01,\n",
       "        -4.80902419e-01,  -4.23079694e-01,  -3.56740395e-01,\n",
       "        -2.83683648e-01,  -2.16836661e-01,  -1.58524380e-01,\n",
       "        -1.08784581e-01,  -7.09225309e-02,  -3.89534819e-02,\n",
       "        -1.42523852e-02,  -5.77049806e-03,   0.00000000e+00,\n",
       "         0.00000000e+00,  -1.19017406e-02,  -2.20501560e-02,\n",
       "        -5.18380750e-02,  -9.06597035e-02,  -1.39667106e-01,\n",
       "        -1.97082121e-01,  -2.64384728e-01,  -3.40730442e-01,\n",
       "        -4.22535749e-01,  -5.15408649e-01,  -5.84660366e-01,\n",
       "        -5.41363044e-01,  -6.26156785e-01,  -6.69145031e-01,\n",
       "         3.43637162e-01,   5.31056017e-01,   1.10236573e+00,\n",
       "        -2.65802578e-01,   1.71565971e+00,   3.77344822e+00,\n",
       "         4.93900230e+00,   3.45006811e+00,  -1.31080130e-01,\n",
       "        -7.48460374e-02,  -3.19301291e-02,  -8.20891834e-03,\n",
       "         0.00000000e+00,  -5.57015293e-03,  -1.56619271e-02,\n",
       "        -3.63656606e-02,  -7.90243079e-02,  -1.33289086e-01,\n",
       "        -1.99154411e-01,  -2.75429691e-01,   8.82421166e-02,\n",
       "        -1.60018965e-02,   4.42476487e-01,   8.18775057e-01,\n",
       "         7.49339511e-01,   1.32200212e+00,   1.19900231e+00,\n",
       "         1.14748071e+00,   1.16876765e+00,   1.25693737e+00,\n",
       "         1.17313576e+00,   9.33441548e-01,   2.13777179e+00,\n",
       "         2.64653072e+00,   2.81275280e+00,   1.14339095e+00,\n",
       "        -1.72939702e-01,  -1.04104240e-01,  -4.83176220e-02,\n",
       "        -1.47080183e-02,  -4.08251693e-03,  -1.32310093e-02,\n",
       "        -2.62438209e-02,  -5.91585908e-02,  -1.13004853e-01,\n",
       "        -1.78441525e-01,  -2.58004810e-01,   4.14936751e-01,\n",
       "         2.55139991e+00,   2.15784271e+00,   1.76151117e+00,\n",
       "         1.47855282e+00,   1.28620376e+00,   1.15934214e+00,\n",
       "         1.08883060e+00,   1.06792169e+00,   1.08561216e+00,\n",
       "         1.12333034e+00,  -1.85138147e-01,  -1.08110686e-01,\n",
       "         1.20942182e-01,   1.04310652e-01,   1.53347815e-01,\n",
       "        -2.87681279e-01,  -1.97007025e-01,  -1.21228940e-01,\n",
       "        -5.68086109e-02,  -1.53906680e-02,  -5.02549298e-03,\n",
       "        -1.73205192e-02,  -4.30805391e-02,  -8.52488969e-02,\n",
       "        -1.39458369e-01,  -2.10883308e-01,  -3.00017977e-01,\n",
       "        -1.59588571e-01,   1.95384078e+00,   1.84773395e+00,\n",
       "         1.51729633e+00,   1.30892138e+00,   1.20210616e+00,\n",
       "         1.16376234e+00,   6.74199715e-01,   5.38435658e-01,\n",
       "         1.12192712e+00,   1.07058610e+00,  -1.04378667e+00,\n",
       "        -9.12978504e-01,  -7.39191314e-01,  -5.71005505e-01,\n",
       "        -4.23671002e-01,  -2.98196207e-01,  -1.97686135e-01,\n",
       "        -1.20683815e-01,  -5.39356285e-02,  -1.35055434e-02,\n",
       "        -5.90571261e-03,  -2.11096679e-02,  -5.29890369e-02,\n",
       "        -9.30784924e-02,  -1.50398734e-01,  -2.26191023e-01,\n",
       "        -3.23645340e-01,  -4.42131217e-01,   2.70213751e-01,\n",
       "         7.45930827e-01,   7.23832933e-02,   1.27771203e+00,\n",
       "         1.27734539e+00,   9.12254680e-01,  -8.07963349e-01,\n",
       "        -9.13935971e-01,  -5.60996653e-01,   3.90063789e-01,\n",
       "        -9.99486551e-01,  -9.01508612e-01,  -7.36681516e-01,\n",
       "        -5.67589421e-01,  -4.20171899e-01,  -2.90174595e-01,\n",
       "        -1.81482351e-01,  -1.04939775e-01,  -4.72131729e-02,\n",
       "        -1.41308656e-02,  -5.77280519e-03,  -2.26322771e-02,\n",
       "        -5.28031747e-02,  -9.22058067e-02,  -1.47451700e-01,\n",
       "        -2.27284588e-01,  -3.32428316e-01,  -4.62696158e-01,\n",
       "        -6.19033521e-01,  -6.52626518e-01,  -8.99148251e-01,\n",
       "         4.58886633e-01,   1.47356894e+00,   6.77134887e-02,\n",
       "        -7.71412102e-01,  -8.03560093e-01,  -8.73939297e-01,\n",
       "        -9.51575414e-01,  -9.62131065e-01,  -8.63473259e-01,\n",
       "        -7.01324246e-01,  -5.37396564e-01,  -3.96771027e-01,\n",
       "        -2.71222642e-01,  -1.59324464e-01,  -8.12584087e-02,\n",
       "        -3.69508670e-02,  -1.18733992e-02,  -7.05517396e-03,\n",
       "        -2.07711768e-02,  -4.72035624e-02,  -8.20038362e-02,\n",
       "        -1.37457285e-01,  -2.25181955e-01,  -3.38492381e-01,\n",
       "        -4.82934997e-01,  -6.48288219e-01,  -8.09805311e-01,\n",
       "        -8.96460461e-01,   4.05564687e-01,   1.64634567e+00,\n",
       "         1.16516320e+00,  -7.21489008e-01,  -8.02210470e-01,\n",
       "        -9.01262815e-01,  -9.77722928e-01,  -9.55547943e-01,\n",
       "        -8.24902899e-01,  -6.55987835e-01,  -4.99364187e-01,\n",
       "        -3.69573309e-01,  -2.58464407e-01,  -1.49695715e-01,\n",
       "        -6.11113564e-02,  -2.80115688e-02,  -9.12509965e-03,\n",
       "        -5.30435130e-03,  -1.62383999e-02,  -3.63786148e-02,\n",
       "        -6.85820105e-02,  -1.27368499e-01,  -2.26143360e-01,\n",
       "        -3.52202906e-01,  -5.07583513e-01,  -6.79449640e-01,\n",
       "        -8.28251048e-01,  -8.88830036e-01,  -7.40225109e-01,\n",
       "         1.06068287e+00,   1.68492907e+00,  -1.77575688e-01,\n",
       "        -9.17683490e-01,  -1.02909594e+00,  -1.05827900e+00,\n",
       "        -9.65674043e-01,  -7.94476763e-01,  -6.16749363e-01,\n",
       "        -4.70072884e-01,  -3.55124414e-01,  -2.55407545e-01,\n",
       "        -1.53824513e-01,  -5.24542821e-02,  -2.15058651e-02,\n",
       "        -9.92198161e-03,  -4.08251693e-03,  -1.09343854e-02,\n",
       "        -2.55447979e-02,  -5.70730810e-02,  -1.24662020e-01,\n",
       "        -2.38498173e-01,  -3.73258897e-01,  -5.33136068e-01,\n",
       "        -7.02094140e-01,  -8.37450050e-01,  -8.80074249e-01,\n",
       "        -8.41014273e-01,  -4.87694929e-01,   1.32485786e+00,\n",
       "         9.98375471e-01,   3.22814268e-01,  -1.98337189e-01,\n",
       "        -1.11994100e+00,  -9.76070413e-01,  -7.75195395e-01,\n",
       "        -5.94446605e-01,  -4.60910238e-01,  -3.55500546e-01,\n",
       "        -2.63549180e-01,  -1.64503687e-01,  -5.95130325e-02,\n",
       "        -2.33686679e-02,  -7.40432376e-03,  -4.08251693e-03,\n",
       "        -7.98834543e-03,  -1.82964530e-02,  -5.13394345e-02,\n",
       "        -1.29346397e-01,  -2.57521393e-01,  -3.95011330e-01,\n",
       "        -5.50421723e-01,  -7.07323088e-01,  -8.26049817e-01,\n",
       "        -8.67853151e-01,  -8.60743722e-01,  -9.04035680e-01,\n",
       "        -3.08572618e-01,   9.64876914e-01,   1.03583353e+00,\n",
       "         1.05517267e+00,  -8.08498334e-02,  -7.38205686e-01,\n",
       "        -7.63011316e-01,  -5.97027040e-01,  -4.72019989e-01,\n",
       "        -3.68370412e-01,  -2.73325316e-01,  -1.73386634e-01,\n",
       "        -6.89427199e-02,  -2.46446573e-02,  -6.98490193e-03,\n",
       "        -4.77028006e-03,  -4.18942802e-03,  -1.86482564e-02,\n",
       "        -5.32721237e-02,  -1.40420517e-01,  -2.77180624e-01,\n",
       "        -4.12209008e-01,  -5.54003398e-01,  -6.92005443e-01,\n",
       "        -7.92583140e-01,  -8.41940836e-01,  -8.69766983e-01,\n",
       "        -9.58664347e-01,  -1.09410266e+00,  -8.05303712e-01,\n",
       "         4.28897581e-01,   1.08836286e+00,   1.16827871e+00,\n",
       "         4.42989478e-01,  -4.93267386e-01,  -6.09787183e-01,\n",
       "        -4.86753939e-01,  -3.80896777e-01,  -2.78298890e-01,\n",
       "        -1.75491552e-01,  -7.70261425e-02,  -2.96263040e-02,\n",
       "        -9.11024024e-03,  -4.08251693e-03,  -6.70727737e-03,\n",
       "        -2.16014323e-02,  -6.07076923e-02,  -1.57022412e-01,\n",
       "        -2.97163168e-01,  -4.22306798e-01,  -5.45726707e-01,\n",
       "        -6.59100289e-01,  -7.41250552e-01,  -7.88379565e-01,\n",
       "        -8.33967293e-01,  -9.19413398e-01,  -1.02595562e+00,\n",
       "        -1.12277551e+00,  -1.00128625e+00,  -2.50181723e-01,\n",
       "         1.26567434e+00,   1.45264065e+00,   1.05397980e+00,\n",
       "        -6.15621643e-01,  -4.93079765e-01,  -3.79874281e-01,\n",
       "        -2.73517649e-01,  -1.73539121e-01,  -8.40501482e-02,\n",
       "        -3.41624422e-02,  -8.93964748e-03,   0.00000000e+00,\n",
       "        -8.93208845e-03,  -2.53977634e-02,  -7.39001757e-02,\n",
       "        -1.77860047e-01,  -3.13383430e-01,  -4.29013061e-01,\n",
       "        -5.35088936e-01,  -6.20781988e-01,  -6.82689238e-01,\n",
       "        -7.23470137e-01,  -7.65558979e-01,  -8.25070425e-01,\n",
       "        -9.19390235e-01,  -1.00626013e+00,  -1.03281505e+00,\n",
       "        -1.01067269e+00,   1.31519954e+00,   1.48115098e+00,\n",
       "         1.64560188e+00,   4.82880931e-02,  -4.85156292e-01,\n",
       "        -3.68041978e-01,  -2.60781824e-01,  -1.68333757e-01,\n",
       "        -8.85426370e-02,  -3.59362339e-02,  -1.07108129e-02,\n",
       "        -5.90596678e-03,  -6.35211414e-03,  -3.33202141e-02,\n",
       "        -9.13048630e-02,  -1.99108031e-01,  -3.27967412e-01,\n",
       "        -4.38995427e-01,  -5.34454088e-01,  -6.05947897e-01,\n",
       "        -6.59405094e-01,  -6.97848366e-01,  -7.30422894e-01,\n",
       "        -7.81125667e-01,  -8.71688552e-01,  -5.44696352e-01,\n",
       "         1.60415053e-01,   6.50220851e-01,   1.34279902e+00,\n",
       "         1.46193998e+00,   1.24594172e+00,  -5.73926496e-01,\n",
       "        -4.63429150e-01,  -3.48771144e-01,  -2.45884747e-01,\n",
       "        -1.58200936e-01,  -8.54379627e-02,  -3.15579616e-02,\n",
       "        -9.76041412e-03,  -4.08251693e-03,  -1.12816627e-02,\n",
       "        -3.97571016e-02,  -1.03852335e-01,  -2.11980971e-01,\n",
       "        -3.37477889e-01,  -4.51701933e-01,  -5.52131610e-01,\n",
       "        -6.31886475e-01,  -6.93224391e-01,  -7.38384900e-01,\n",
       "        -7.70730767e-01,  -4.69506063e-01,   4.22382973e-01,\n",
       "         1.04567034e+00,   1.21745436e+00,   1.23935680e+00,\n",
       "         1.31032797e+00,   1.44686109e+00,   1.07419019e+00,\n",
       "        -5.55385654e-01,  -4.27074606e-01,  -3.16810480e-01,\n",
       "        -2.20685803e-01,  -1.41057264e-01,  -7.81710423e-02,\n",
       "        -2.91825785e-02,  -8.02578597e-03,   0.00000000e+00,\n",
       "        -1.03421049e-02,  -4.32736220e-02,  -1.09167014e-01,\n",
       "        -2.09032573e-01,  -3.30224641e-01,  -4.54875266e-01,\n",
       "        -5.69196807e-01,  -6.72943600e-01,  -7.60601226e-01,\n",
       "        -6.08747781e-01,   1.45933875e-01,   1.02756383e+00,\n",
       "         1.21554325e+00,   1.14867049e+00,   1.14592402e+00,\n",
       "         1.21167774e+00,   8.79504318e-01,  -5.51616072e-02,\n",
       "        -6.26990956e-01,  -4.88062775e-01,  -3.68951144e-01,\n",
       "        -2.69292226e-01,  -1.87212623e-01,  -1.21627434e-01,\n",
       "        -6.64938197e-02,  -2.60330031e-02,  -5.77331594e-03,\n",
       "        -4.08251693e-03,  -1.00095035e-02,  -4.04987315e-02,\n",
       "        -9.99847079e-02,  -1.88201724e-01,  -2.99631312e-01,\n",
       "        -4.27248469e-01,  -5.55251360e-01,  -4.59112688e-01,\n",
       "        -1.95242950e-01,   1.00790158e+00,   1.26095332e+00,\n",
       "         1.17394853e+00,   1.11115667e+00,   1.09552493e+00,\n",
       "         6.59061964e-01,  -2.62412945e-01,  -8.13628297e-01,\n",
       "        -6.67125990e-01,  -5.22694492e-01,  -3.99065428e-01,\n",
       "        -2.96700643e-01,  -2.12626224e-01,  -1.48693958e-01,\n",
       "        -9.68957284e-02,  -5.09310889e-02,  -2.02144293e-02,\n",
       "        -4.08251693e-03,  -4.08251693e-03,  -6.00490574e-03,\n",
       "        -3.37063471e-02,  -7.89724505e-02,  -1.47741377e-01,\n",
       "        -2.43250250e-01,  -8.30458387e-02,   1.56042653e+00,\n",
       "         1.61327333e+00,   1.60667106e+00,   1.37992544e+00,\n",
       "         1.23963346e+00,   1.16030302e+00,   6.21560395e-01,\n",
       "        -3.61925123e-01,  -8.82206990e-01,  -8.17668173e-01,\n",
       "        -6.64655910e-01,  -5.23595080e-01,  -4.02142028e-01,\n",
       "        -3.03069160e-01,  -2.21680844e-01,  -1.59365935e-01,\n",
       "        -1.10060699e-01,  -7.00397650e-02,  -3.71356228e-02,\n",
       "        -1.22014099e-02,  -4.08251693e-03,   0.00000000e+00,\n",
       "         0.00000000e+00,  -2.27387266e-02,  -5.19053972e-02,\n",
       "         3.07386858e+00,   5.60859323e+00,   4.62960950e+00,\n",
       "         3.53861155e+00,   2.59001419e+00,   2.02823973e+00,\n",
       "         1.68064378e+00,   1.39229082e+00,   3.01200685e-01,\n",
       "        -7.99993648e-01,  -8.39748579e-01,  -7.34655534e-01,\n",
       "        -6.12575711e-01,  -4.92071188e-01,  -3.79928167e-01,\n",
       "        -2.88817393e-01,  -2.13440937e-01,  -1.53667782e-01,\n",
       "        -1.09126008e-01,  -7.40987562e-02,  -4.33171851e-02,\n",
       "        -1.93437920e-02,  -1.04024820e-02,   0.00000000e+00,\n",
       "         0.00000000e+00,   0.00000000e+00,  -1.03527008e-02,\n",
       "        -2.87501024e-02,   1.43442321e+01,   1.49676659e+01,\n",
       "         9.09224842e+00,   5.95866001e+00,   3.52099754e+00,\n",
       "         1.54840932e+00,   1.15868445e+00,  -3.51803603e-01,\n",
       "        -5.66505989e-01,  -5.62783656e-01,  -5.27164696e-01,\n",
       "        -4.68057397e-01,  -3.95805045e-01,  -3.24789446e-01,\n",
       "        -2.55705032e-01,  -1.94611712e-01,  -1.44574205e-01,\n",
       "        -1.01773543e-01,  -7.14252227e-02,  -4.77777569e-02,\n",
       "        -2.57524359e-02,  -1.13794237e-02,  -4.75287492e-03,\n",
       "         0.00000000e+00,   0.00000000e+00,   0.00000000e+00,\n",
       "        -6.66430111e-03,  -1.09642132e-02,  -2.76044516e-02,\n",
       "        -5.15536012e-02,  -8.67718458e-02,  -1.28392033e-01,\n",
       "        -1.75775898e-01,  -2.23054438e-01,  -2.66640286e-01,\n",
       "        -2.94844315e-01,  -3.07505433e-01,  -3.05180122e-01,\n",
       "        -2.89231779e-01,  -2.63231291e-01,  -2.33723589e-01,\n",
       "        -2.01027824e-01,  -1.63691052e-01,  -1.27665996e-01,\n",
       "        -9.39651393e-02,  -6.56832591e-02,  -4.59265310e-02,\n",
       "        -2.87188097e-02,  -1.56930365e-02,  -5.67530616e-03,\n",
       "        -4.08251693e-03,   0.00000000e+00,   0.00000000e+00,\n",
       "         0.00000000e+00,   0.00000000e+00,  -4.08251693e-03,\n",
       "        -1.51213939e-02,  -3.13695545e-02,  -5.33302349e-02,\n",
       "        -7.92282669e-02,  -1.08376650e-01,  -1.33979068e-01,\n",
       "        -1.57513181e-01,  -1.75105513e-01,  -1.82626897e-01,\n",
       "        -1.80535341e-01,  -1.69876491e-01,  -1.53157314e-01,\n",
       "        -1.35433124e-01,  -1.16480299e-01,  -9.39512541e-02,\n",
       "        -7.25768871e-02,  -5.23643597e-02,  -3.63829995e-02,\n",
       "        -2.15030637e-02,  -1.30192791e-02,  -4.49421517e-03,\n",
       "        -4.08251693e-03,   0.00000000e+00,   0.00000000e+00,\n",
       "         0.00000000e+00,   0.00000000e+00,   0.00000000e+00,\n",
       "         0.00000000e+00,  -5.79016363e-03,  -9.05384592e-03,\n",
       "        -1.60054430e-02,  -2.21197601e-02,  -2.68459958e-02,\n",
       "        -3.18450632e-02,  -4.37484087e-02,  -4.72829474e-02,\n",
       "        -5.31388046e-02,  -5.66228194e-02,  -6.03383556e-02,\n",
       "        -5.62950014e-02,  -5.13665378e-02,  -4.26322798e-02,\n",
       "        -3.31710271e-02,  -2.24628830e-02,  -1.60690870e-02,\n",
       "        -1.14322028e-02,  -9.00729450e-03,  -5.77039393e-03,\n",
       "         0.00000000e+00,   0.00000000e+00,   0.00000000e+00,\n",
       "         0.00000000e+00])"
      ]
     },
     "execution_count": 30,
     "metadata": {},
     "output_type": "execute_result"
    }
   ],
   "source": [
    "X_train_std[0]"
   ]
  },
  {
   "cell_type": "markdown",
   "metadata": {},
   "source": [
    "### The images:"
   ]
  },
  {
   "cell_type": "code",
   "execution_count": 31,
   "metadata": {
    "collapsed": false
   },
   "outputs": [
    {
     "data": {
      "image/png": "[encoded data removed]",
      "text/plain": [
       "<matplotlib.figure.Figure at 0x11686cd68>"
      ]
     },
     "metadata": {},
     "output_type": "display_data"
    }
   ],
   "source": [
    "plotExamples(X_train_std, y_train)"
   ]
  },
  {
   "cell_type": "markdown",
   "metadata": {},
   "source": [
    "### (b) Normalization\n",
    "\n",
    "This normalization is to normalize the data along the same sample (**axis =1**)."
   ]
  },
  {
   "cell_type": "code",
   "execution_count": 23,
   "metadata": {
    "collapsed": false
   },
   "outputs": [
    {
     "name": "stderr",
     "output_type": "stream",
     "text": [
      "/Users/hhhung/anaconda/envs/tensorflow/lib/python3.5/site-packages/sklearn/utils/validation.py:429: DataConversionWarning: Data with input dtype uint8 was converted to float64 by the normalize function.\n",
      "  warnings.warn(msg, _DataConversionWarning)\n"
     ]
    }
   ],
   "source": [
    "X_train_nor = preprocessing.normalize(X_train, norm='l2', axis=1)\n",
    "X_test_nor = preprocessing.normalize(X_test, norm='l2', axis=1)"
   ]
  },
  {
   "cell_type": "code",
   "execution_count": 24,
   "metadata": {
    "collapsed": false
   },
   "outputs": [
    {
     "data": {
      "text/plain": [
       "array([ 0.        ,  0.        ,  0.        ,  0.        ,  0.        ,\n",
       "        0.        ,  0.        ,  0.        ,  0.        ,  0.        ,\n",
       "        0.        ,  0.        ,  0.        ,  0.        ,  0.        ,\n",
       "        0.        ,  0.        ,  0.        ,  0.        ,  0.        ,\n",
       "        0.        ,  0.        ,  0.        ,  0.        ,  0.        ,\n",
       "        0.        ,  0.        ,  0.        ,  0.        ,  0.        ,\n",
       "        0.        ,  0.        ,  0.        ,  0.        ,  0.        ,\n",
       "        0.        ,  0.        ,  0.        ,  0.        ,  0.        ,\n",
       "        0.        ,  0.        ,  0.        ,  0.        ,  0.        ,\n",
       "        0.        ,  0.        ,  0.        ,  0.        ,  0.        ,\n",
       "        0.        ,  0.        ,  0.        ,  0.        ,  0.        ,\n",
       "        0.        ,  0.        ,  0.        ,  0.        ,  0.        ,\n",
       "        0.        ,  0.        ,  0.        ,  0.        ,  0.        ,\n",
       "        0.        ,  0.        ,  0.        ,  0.        ,  0.        ,\n",
       "        0.        ,  0.        ,  0.        ,  0.        ,  0.        ,\n",
       "        0.        ,  0.        ,  0.        ,  0.        ,  0.        ,\n",
       "        0.        ,  0.        ,  0.        ,  0.        ,  0.        ,\n",
       "        0.        ,  0.        ,  0.        ,  0.        ,  0.        ,\n",
       "        0.        ,  0.        ,  0.        ,  0.        ,  0.        ,\n",
       "        0.        ,  0.        ,  0.        ,  0.        ,  0.        ,\n",
       "        0.        ,  0.        ,  0.        ,  0.        ,  0.        ,\n",
       "        0.        ,  0.        ,  0.        ,  0.        ,  0.        ,\n",
       "        0.        ,  0.        ,  0.        ,  0.        ,  0.        ,\n",
       "        0.        ,  0.        ,  0.        ,  0.        ,  0.        ,\n",
       "        0.        ,  0.        ,  0.        ,  0.        ,  0.        ,\n",
       "        0.        ,  0.        ,  0.        ,  0.        ,  0.        ,\n",
       "        0.        ,  0.        ,  0.        ,  0.        ,  0.        ,\n",
       "        0.        ,  0.        ,  0.        ,  0.        ,  0.        ,\n",
       "        0.        ,  0.        ,  0.        ,  0.        ,  0.        ,\n",
       "        0.        ,  0.        ,  0.        ,  0.        ,  0.        ,\n",
       "        0.        ,  0.        ,  0.00123091,  0.00738549,  0.00738549,\n",
       "        0.00738549,  0.0516984 ,  0.05580145,  0.07180334,  0.01066792,\n",
       "        0.0681106 ,  0.10462772,  0.10134528,  0.05210871,  0.        ,\n",
       "        0.        ,  0.        ,  0.        ,  0.        ,  0.        ,\n",
       "        0.        ,  0.        ,  0.        ,  0.        ,  0.        ,\n",
       "        0.        ,  0.01230914,  0.01477097,  0.03856865,  0.06318694,\n",
       "        0.06975182,  0.10380711,  0.10380711,  0.10380711,  0.10380711,\n",
       "        0.10380711,  0.09231858,  0.07057243,  0.10380711,  0.09929376,\n",
       "        0.08000944,  0.02625951,  0.        ,  0.        ,  0.        ,\n",
       "        0.        ,  0.        ,  0.        ,  0.        ,  0.        ,\n",
       "        0.        ,  0.        ,  0.        ,  0.02010494,  0.09765254,\n",
       "        0.10380711,  0.10380711,  0.10380711,  0.10380711,  0.10380711,\n",
       "        0.10380711,  0.10380711,  0.10380711,  0.1029865 ,  0.03815835,\n",
       "        0.03364499,  0.03364499,  0.02297707,  0.01600189,  0.        ,\n",
       "        0.        ,  0.        ,  0.        ,  0.        ,  0.        ,\n",
       "        0.        ,  0.        ,  0.        ,  0.        ,  0.        ,\n",
       "        0.        ,  0.00738549,  0.08985675,  0.10380711,  0.10380711,\n",
       "        0.10380711,  0.10380711,  0.10380711,  0.08124035,  0.07467547,\n",
       "        0.10134528,  0.09888346,  0.        ,  0.        ,  0.        ,\n",
       "        0.        ,  0.        ,  0.        ,  0.        ,  0.        ,\n",
       "        0.        ,  0.        ,  0.        ,  0.        ,  0.        ,\n",
       "        0.        ,  0.        ,  0.        ,  0.        ,  0.        ,\n",
       "        0.03282438,  0.06400755,  0.04390261,  0.10380711,  0.10380711,\n",
       "        0.08411248,  0.00451335,  0.        ,  0.01764311,  0.06318694,\n",
       "        0.        ,  0.        ,  0.        ,  0.        ,  0.        ,\n",
       "        0.        ,  0.        ,  0.        ,  0.        ,  0.        ,\n",
       "        0.        ,  0.        ,  0.        ,  0.        ,  0.        ,\n",
       "        0.        ,  0.        ,  0.        ,  0.        ,  0.00574427,\n",
       "        0.0004103 ,  0.06318694,  0.10380711,  0.03692743,  0.        ,\n",
       "        0.        ,  0.        ,  0.        ,  0.        ,  0.        ,\n",
       "        0.        ,  0.        ,  0.        ,  0.        ,  0.        ,\n",
       "        0.        ,  0.        ,  0.        ,  0.        ,  0.        ,\n",
       "        0.        ,  0.        ,  0.        ,  0.        ,  0.        ,\n",
       "        0.        ,  0.        ,  0.        ,  0.        ,  0.05703237,\n",
       "        0.10380711,  0.07795791,  0.00082061,  0.        ,  0.        ,\n",
       "        0.        ,  0.        ,  0.        ,  0.        ,  0.        ,\n",
       "        0.        ,  0.        ,  0.        ,  0.        ,  0.        ,\n",
       "        0.        ,  0.        ,  0.        ,  0.        ,  0.        ,\n",
       "        0.        ,  0.        ,  0.        ,  0.        ,  0.        ,\n",
       "        0.        ,  0.        ,  0.00451335,  0.07795791,  0.10380711,\n",
       "        0.02872134,  0.        ,  0.        ,  0.        ,  0.        ,\n",
       "        0.        ,  0.        ,  0.        ,  0.        ,  0.        ,\n",
       "        0.        ,  0.        ,  0.        ,  0.        ,  0.        ,\n",
       "        0.        ,  0.        ,  0.        ,  0.        ,  0.        ,\n",
       "        0.        ,  0.        ,  0.        ,  0.        ,  0.        ,\n",
       "        0.        ,  0.01436067,  0.09888346,  0.09231858,  0.06564877,\n",
       "        0.04431292,  0.0004103 ,  0.        ,  0.        ,  0.        ,\n",
       "        0.        ,  0.        ,  0.        ,  0.        ,  0.        ,\n",
       "        0.        ,  0.        ,  0.        ,  0.        ,  0.        ,\n",
       "        0.        ,  0.        ,  0.        ,  0.        ,  0.        ,\n",
       "        0.        ,  0.        ,  0.        ,  0.        ,  0.        ,\n",
       "        0.03323469,  0.09847315,  0.10380711,  0.10380711,  0.04882627,\n",
       "        0.01025762,  0.        ,  0.        ,  0.        ,  0.        ,\n",
       "        0.        ,  0.        ,  0.        ,  0.        ,  0.        ,\n",
       "        0.        ,  0.        ,  0.        ,  0.        ,  0.        ,\n",
       "        0.        ,  0.        ,  0.        ,  0.        ,  0.        ,\n",
       "        0.        ,  0.        ,  0.        ,  0.        ,  0.01846372,\n",
       "        0.07631669,  0.10380711,  0.10380711,  0.06154572,  0.01107823,\n",
       "        0.        ,  0.        ,  0.        ,  0.        ,  0.        ,\n",
       "        0.        ,  0.        ,  0.        ,  0.        ,  0.        ,\n",
       "        0.        ,  0.        ,  0.        ,  0.        ,  0.        ,\n",
       "        0.        ,  0.        ,  0.        ,  0.        ,  0.        ,\n",
       "        0.        ,  0.        ,  0.        ,  0.00656488,  0.03815835,\n",
       "        0.10339681,  0.10380711,  0.076727  ,  0.        ,  0.        ,\n",
       "        0.        ,  0.        ,  0.        ,  0.        ,  0.        ,\n",
       "        0.        ,  0.        ,  0.        ,  0.        ,  0.        ,\n",
       "        0.        ,  0.        ,  0.        ,  0.        ,  0.        ,\n",
       "        0.        ,  0.        ,  0.        ,  0.        ,  0.        ,\n",
       "        0.        ,  0.        ,  0.        ,  0.10216589,  0.10380711,\n",
       "        0.10216589,  0.02625951,  0.        ,  0.        ,  0.        ,\n",
       "        0.        ,  0.        ,  0.        ,  0.        ,  0.        ,\n",
       "        0.        ,  0.        ,  0.        ,  0.        ,  0.        ,\n",
       "        0.        ,  0.        ,  0.        ,  0.        ,  0.        ,\n",
       "        0.        ,  0.        ,  0.        ,  0.01887402,  0.05333962,\n",
       "        0.07508578,  0.10380711,  0.10380711,  0.08493309,  0.00082061,\n",
       "        0.        ,  0.        ,  0.        ,  0.        ,  0.        ,\n",
       "        0.        ,  0.        ,  0.        ,  0.        ,  0.        ,\n",
       "        0.        ,  0.        ,  0.        ,  0.        ,  0.        ,\n",
       "        0.        ,  0.        ,  0.        ,  0.        ,  0.01600189,\n",
       "        0.06072511,  0.0939598 ,  0.10380711,  0.10380711,  0.10380711,\n",
       "        0.1025762 ,  0.07467547,  0.        ,  0.        ,  0.        ,\n",
       "        0.        ,  0.        ,  0.        ,  0.        ,  0.        ,\n",
       "        0.        ,  0.        ,  0.        ,  0.        ,  0.        ,\n",
       "        0.        ,  0.        ,  0.        ,  0.        ,  0.        ,\n",
       "        0.00984732,  0.04677475,  0.09067736,  0.10380711,  0.10380711,\n",
       "        0.10380711,  0.10380711,  0.08247126,  0.03200377,  0.        ,\n",
       "        0.        ,  0.        ,  0.        ,  0.        ,  0.        ,\n",
       "        0.        ,  0.        ,  0.        ,  0.        ,  0.        ,\n",
       "        0.        ,  0.        ,  0.        ,  0.        ,  0.        ,\n",
       "        0.        ,  0.00943701,  0.02708012,  0.08739492,  0.10380711,\n",
       "        0.10380711,  0.10380711,  0.10380711,  0.08124035,  0.03323469,\n",
       "        0.00082061,  0.        ,  0.        ,  0.        ,  0.        ,\n",
       "        0.        ,  0.        ,  0.        ,  0.        ,  0.        ,\n",
       "        0.        ,  0.        ,  0.        ,  0.        ,  0.        ,\n",
       "        0.        ,  0.        ,  0.00738549,  0.07016212,  0.08985675,\n",
       "        0.10380711,  0.10380711,  0.10380711,  0.10380711,  0.08000944,\n",
       "        0.03282438,  0.00369274,  0.        ,  0.        ,  0.        ,\n",
       "        0.        ,  0.        ,  0.        ,  0.        ,  0.        ,\n",
       "        0.        ,  0.        ,  0.        ,  0.        ,  0.        ,\n",
       "        0.        ,  0.        ,  0.        ,  0.02256676,  0.07057243,\n",
       "        0.09272888,  0.10380711,  0.10380711,  0.10380711,  0.10380711,\n",
       "        0.10011437,  0.05457054,  0.00451335,  0.        ,  0.        ,\n",
       "        0.        ,  0.        ,  0.        ,  0.        ,  0.        ,\n",
       "        0.        ,  0.        ,  0.        ,  0.        ,  0.        ,\n",
       "        0.        ,  0.        ,  0.        ,  0.        ,  0.        ,\n",
       "        0.        ,  0.05580145,  0.10380711,  0.10380711,  0.10380711,\n",
       "        0.08698462,  0.05539115,  0.05416023,  0.00656488,  0.        ,\n",
       "        0.        ,  0.        ,  0.        ,  0.        ,  0.        ,\n",
       "        0.        ,  0.        ,  0.        ,  0.        ,  0.        ,\n",
       "        0.        ,  0.        ,  0.        ,  0.        ,  0.        ,\n",
       "        0.        ,  0.        ,  0.        ,  0.        ,  0.        ,\n",
       "        0.        ,  0.        ,  0.        ,  0.        ,  0.        ,\n",
       "        0.        ,  0.        ,  0.        ,  0.        ,  0.        ,\n",
       "        0.        ,  0.        ,  0.        ,  0.        ,  0.        ,\n",
       "        0.        ,  0.        ,  0.        ,  0.        ,  0.        ,\n",
       "        0.        ,  0.        ,  0.        ,  0.        ,  0.        ,\n",
       "        0.        ,  0.        ,  0.        ,  0.        ,  0.        ,\n",
       "        0.        ,  0.        ,  0.        ,  0.        ,  0.        ,\n",
       "        0.        ,  0.        ,  0.        ,  0.        ,  0.        ,\n",
       "        0.        ,  0.        ,  0.        ,  0.        ,  0.        ,\n",
       "        0.        ,  0.        ,  0.        ,  0.        ,  0.        ,\n",
       "        0.        ,  0.        ,  0.        ,  0.        ,  0.        ,\n",
       "        0.        ,  0.        ,  0.        ,  0.        ,  0.        ,\n",
       "        0.        ,  0.        ,  0.        ,  0.        ,  0.        ,\n",
       "        0.        ,  0.        ,  0.        ,  0.        ,  0.        ,\n",
       "        0.        ,  0.        ,  0.        ,  0.        ,  0.        ,\n",
       "        0.        ,  0.        ,  0.        ,  0.        ])"
      ]
     },
     "execution_count": 24,
     "metadata": {},
     "output_type": "execute_result"
    }
   ],
   "source": [
    "np.array(X_train_nor[0])"
   ]
  },
  {
   "cell_type": "code",
   "execution_count": 25,
   "metadata": {
    "collapsed": false
   },
   "outputs": [
    {
     "data": {
      "image/png": "[encoded data removed]",
      "text/plain": [
       "<matplotlib.figure.Figure at 0x113c642e8>"
      ]
     },
     "metadata": {},
     "output_type": "display_data"
    }
   ],
   "source": [
    "plotExamples(X_train_nor, y_train)"
   ]
  },
  {
   "cell_type": "markdown",
   "metadata": {},
   "source": [
    "## 2. Training Neural Networks\n",
    "\n",
    "Here we just benchmark several neural network models and compare the model performance. All results show using **standardized** or **normalized** mnist data is more efficient than the raw data, and here we will show how significant the model performance improves using the preprocessing data.\n",
    "\n",
    "### (a) single-hidden layer with 100 neurons, \"sigmoid\" activation fucntion\n",
    "\n",
    "\n",
    "#### Raw data, mse loss, $\\alpha$ = 0.1"
   ]
  },
  {
   "cell_type": "code",
   "execution_count": 26,
   "metadata": {
    "collapsed": false
   },
   "outputs": [
    {
     "name": "stdout",
     "output_type": "stream",
     "text": [
      "10000/10000 [==============================] - 0s     \n",
      " test set, loss:  0.00800592859923  , acc: 0.9563\n"
     ]
    }
   ],
   "source": [
    "model = Sequential()\n",
    "model.add(Dense(100, input_dim=784, init='uniform', activation='sigmoid'))\n",
    "model.add(Dense(10, init='uniform', activation='sigmoid'))\n",
    "sgd = SGD(lr=0.1)\n",
    "model.compile(loss='mse', optimizer=sgd, metrics=['accuracy'])\n",
    "model.fit(X_train, y_train, batch_size=32, nb_epoch=50, verbose=0)\n",
    "scores = model.evaluate(X_test, y_test);\n",
    "print(' test set, loss: ', scores[0], ' , acc:', scores[1])"
   ]
  },
  {
   "cell_type": "markdown",
   "metadata": {},
   "source": [
    "#### Standardized data, mse loss, $\\alpha =0.1$"
   ]
  },
  {
   "cell_type": "code",
   "execution_count": 32,
   "metadata": {
    "collapsed": false
   },
   "outputs": [
    {
     "name": "stdout",
     "output_type": "stream",
     "text": [
      " 9824/10000 [============================>.] - ETA: 0s test, loss:  0.0102657492755  , acc: 0.9402\n"
     ]
    }
   ],
   "source": [
    "model = Sequential()\n",
    "model.add(Dense(100, input_dim=784, init='uniform', activation='sigmoid'))\n",
    "model.add(Dense(10, init='uniform', activation='sigmoid'))\n",
    "sgd = SGD(lr=0.1)\n",
    "model.compile(loss='mse', optimizer=sgd, metrics=['accuracy'])\n",
    "model.fit(X_train_std, y_train, batch_size=32, nb_epoch=50, verbose=0)\n",
    "scores = model.evaluate(X_test_std, y_test);\n",
    "print(' test, loss: ', scores[0], ' , acc:', scores[1])"
   ]
  },
  {
   "cell_type": "markdown",
   "metadata": {},
   "source": [
    "#### Raw data, categorical_crosssentropy loss, $\\alpha =0.1$ (poor performace)"
   ]
  },
  {
   "cell_type": "code",
   "execution_count": 33,
   "metadata": {
    "collapsed": false
   },
   "outputs": [
    {
     "name": "stdout",
     "output_type": "stream",
     "text": [
      " 9888/10000 [============================>.] - ETA: 0s test set, loss:  0.439626646817  , acc: 0.8667\n"
     ]
    }
   ],
   "source": [
    "model = Sequential()\n",
    "model.add(Dense(100, input_dim=784, init='uniform', activation='sigmoid'))\n",
    "model.add(Dense(10, init='uniform', activation='sigmoid'))\n",
    "sgd = SGD(lr=0.1)\n",
    "model.compile(loss='categorical_crossentropy', optimizer=sgd, metrics=['accuracy'])\n",
    "model.fit(X_train, y_train, batch_size=32, nb_epoch=50, verbose=0)\n",
    "scores = model.evaluate(X_test, y_test);\n",
    "print(' test set, loss: ', scores[0], ' , acc:', scores[1])"
   ]
  },
  {
   "cell_type": "markdown",
   "metadata": {},
   "source": [
    "#### Raw data, \"categorical_crosssentrop\" loss, $\\alpha =0.01$ (improve)"
   ]
  },
  {
   "cell_type": "code",
   "execution_count": 34,
   "metadata": {
    "collapsed": false
   },
   "outputs": [
    {
     "name": "stdout",
     "output_type": "stream",
     "text": [
      " 9856/10000 [============================>.] - ETA: 0s  Loss:  0.15917128969  , acc: 0.9519\n"
     ]
    }
   ],
   "source": [
    "model = Sequential()\n",
    "model.add(Dense(100, input_dim=784, init='uniform', activation='sigmoid'))\n",
    "model.add(Dense(10, init='uniform', activation='sigmoid'))\n",
    "sgd = SGD(lr=0.01) \n",
    "model.compile(loss='categorical_crossentropy', optimizer=sgd, metrics=['accuracy'])\n",
    "model.fit(X_train, y_train, batch_size=32, nb_epoch=50, verbose=0)\n",
    "scores = model.evaluate(X_test, y_test);\n",
    "print('  Loss: ', scores[0], ' , acc:', scores[1])"
   ]
  },
  {
   "cell_type": "markdown",
   "metadata": {},
   "source": [
    "#### Standardized data, \"categorical_crosssentropy\" loss, $\\alpha =0.1$"
   ]
  },
  {
   "cell_type": "code",
   "execution_count": 35,
   "metadata": {
    "collapsed": false
   },
   "outputs": [
    {
     "name": "stdout",
     "output_type": "stream",
     "text": [
      " 9920/10000 [============================>.] - ETA: 0s test set, loss:  0.119297841781  , acc: 0.9679\n"
     ]
    }
   ],
   "source": [
    "model = Sequential()\n",
    "model.add(Dense(100, input_dim=784, init='uniform', activation='sigmoid'))\n",
    "model.add(Dense(10, init='uniform', activation='sigmoid'))\n",
    "sgd = SGD(lr=0.1)\n",
    "model.compile(loss='categorical_crossentropy', optimizer=sgd, metrics=['accuracy'])\n",
    "model.fit(X_train_std, y_train, batch_size=32, nb_epoch=50, verbose=0)\n",
    "scores = model.evaluate(X_test_std, y_test);\n",
    "print(' test set, loss: ', scores[0], ' , acc:', scores[1])"
   ]
  },
  {
   "cell_type": "markdown",
   "metadata": {},
   "source": [
    "#### Normalized data, \"categorical_crosssentropy\" loss, $\\alpha =0.1$"
   ]
  },
  {
   "cell_type": "code",
   "execution_count": 36,
   "metadata": {
    "collapsed": false
   },
   "outputs": [
    {
     "name": "stdout",
     "output_type": "stream",
     "text": [
      " 9952/10000 [============================>.] - ETA: 0s test set, loss:  0.253789396632  , acc: 0.9264\n"
     ]
    }
   ],
   "source": [
    "model = Sequential()\n",
    "model.add(Dense(100, input_dim=784, init='uniform', activation='sigmoid'))\n",
    "model.add(Dense(10, init='uniform', activation='sigmoid'))\n",
    "sgd = SGD(lr=0.1)\n",
    "model.compile(loss='categorical_crossentropy', optimizer=sgd, metrics=['accuracy'])\n",
    "model.fit(X_train_nor, y_train, batch_size=32, nb_epoch=50, verbose=0)\n",
    "scores = model.evaluate(X_test_nor, y_test);\n",
    "print(' test set, loss: ', scores[0], ' , acc:', scores[1])"
   ]
  },
  {
   "cell_type": "markdown",
   "metadata": {},
   "source": [
    "For the single-hidden-layer neural networks, we obviously see that using **standardized** or **normalized** data is more efficient than using raw data and is even able to provide extraordinarily accurate results."
   ]
  },
  {
   "cell_type": "markdown",
   "metadata": {},
   "source": [
    "### (b) 3-hidden-layer neural network, \"relu\" activation function\n",
    "\n",
    "#### Raw data, \"categorical_crossentropy\" loss, $\\alpha=0.1$"
   ]
  },
  {
   "cell_type": "code",
   "execution_count": 38,
   "metadata": {
    "collapsed": false
   },
   "outputs": [
    {
     "name": "stdout",
     "output_type": "stream",
     "text": [
      " 9888/10000 [============================>.] - ETA: 0s  Loss:  14.5481926758  , acc: 0.0974\n"
     ]
    }
   ],
   "source": [
    "model2 = Sequential()\n",
    "model2.add(Dense(200, input_dim=784, activation='relu'))\n",
    "model2.add(Dense(200, activation='relu'))\n",
    "model2.add(Dense(100, activation='relu'))\n",
    "model2.add(Dense(10,  activation='softmax'))\n",
    "sgd = SGD(lr=0.1) \n",
    "model2.compile(loss='categorical_crossentropy', optimizer=sgd, metrics=['accuracy'])\n",
    "model2.fit(X_train, y_train, batch_size=16, nb_epoch=20, verbose=0)\n",
    "scores = model2.evaluate(X_test, y_test);\n",
    "print('  Loss: ', scores[0], ' , acc:', scores[1])"
   ]
  },
  {
   "cell_type": "markdown",
   "metadata": {},
   "source": [
    "#### Raw data, \"categorical_crossentropy\" loss, $\\alpha=0.01$"
   ]
  },
  {
   "cell_type": "code",
   "execution_count": 39,
   "metadata": {
    "collapsed": false
   },
   "outputs": [
    {
     "name": "stdout",
     "output_type": "stream",
     "text": [
      "10000/10000 [==============================] - 0s     \n",
      "  Loss:  14.4547077744  , acc: 0.1032\n"
     ]
    }
   ],
   "source": [
    "model2 = Sequential()\n",
    "model2.add(Dense(200, input_dim=784, activation='relu'))\n",
    "model2.add(Dense(200, activation='relu'))\n",
    "model2.add(Dense(100, activation='relu'))\n",
    "model2.add(Dense(10,  activation='softmax'))\n",
    "sgd = SGD(lr=0.01) \n",
    "model2.compile(loss='categorical_crossentropy', optimizer=sgd, metrics=['accuracy'])\n",
    "model2.fit(X_train, y_train, batch_size=16, nb_epoch=20, verbose=0)\n",
    "scores = model2.evaluate(X_test, y_test);\n",
    "print('  Loss: ', scores[0], ' , acc:', scores[1])"
   ]
  },
  {
   "cell_type": "markdown",
   "metadata": {},
   "source": [
    "#### Standardized data, \"categorical_crossentropy\" loss, $\\alpha=0.1$"
   ]
  },
  {
   "cell_type": "code",
   "execution_count": 40,
   "metadata": {
    "collapsed": false
   },
   "outputs": [
    {
     "name": "stdout",
     "output_type": "stream",
     "text": [
      "10000/10000 [==============================] - 0s     \n",
      "  Loss:  2.30139242477  , acc: 0.1135\n"
     ]
    }
   ],
   "source": [
    "model2 = Sequential()\n",
    "model2.add(Dense(200, input_dim=784, activation='relu'))\n",
    "model2.add(Dense(200, activation='relu'))\n",
    "model2.add(Dense(100, activation='relu'))\n",
    "model2.add(Dense(10,  activation='softmax'))\n",
    "sgd = SGD(lr=0.1) \n",
    "model2.compile(loss='categorical_crossentropy', optimizer=sgd, metrics=['accuracy'])\n",
    "model2.fit(X_train_std, y_train, batch_size=16, nb_epoch=50, verbose=0)\n",
    "scores = model2.evaluate(X_test_std, y_test);\n",
    "print('  Loss: ', scores[0], ' , acc:', scores[1])"
   ]
  },
  {
   "cell_type": "markdown",
   "metadata": {},
   "source": [
    "#### Standardized data, \"categorical_crossentropy\" loss, $\\alpha=0.01$"
   ]
  },
  {
   "cell_type": "code",
   "execution_count": 41,
   "metadata": {
    "collapsed": false
   },
   "outputs": [
    {
     "name": "stdout",
     "output_type": "stream",
     "text": [
      " 9984/10000 [============================>.] - ETA: 0s test set, loss:  0.151077634725  , acc: 0.9749\n"
     ]
    }
   ],
   "source": [
    "model2 = Sequential()\n",
    "model2.add(Dense(200, input_dim=784, activation='relu'))\n",
    "model2.add(Dense(200, activation='relu'))\n",
    "model2.add(Dense(100, activation='relu'))\n",
    "model2.add(Dense(10,  activation='softmax'))\n",
    "sgd = SGD(lr=0.01) \n",
    "model2.compile(loss='categorical_crossentropy', optimizer=sgd, metrics=['accuracy'])\n",
    "model2.fit(X_train_std, y_train, batch_size=16, nb_epoch=40, verbose=0)\n",
    "scores = model2.evaluate(X_test_std, y_test);\n",
    "print(' test set, loss: ', scores[0], ' , acc:', scores[1])"
   ]
  },
  {
   "cell_type": "markdown",
   "metadata": {},
   "source": [
    "#### Normalized data, \"categorical_crossentropy\" loss, $\\alpha=0.01$"
   ]
  },
  {
   "cell_type": "code",
   "execution_count": 42,
   "metadata": {
    "collapsed": false
   },
   "outputs": [
    {
     "name": "stdout",
     "output_type": "stream",
     "text": [
      " 9984/10000 [============================>.] - ETA: 0s test set, loss:  0.0802744085685  , acc: 0.9754\n"
     ]
    }
   ],
   "source": [
    "model2 = Sequential()\n",
    "model2.add(Dense(200, input_dim=784, activation='relu'))\n",
    "model2.add(Dense(200, activation='relu'))\n",
    "model2.add(Dense(100, activation='relu'))\n",
    "model2.add(Dense(10,  activation='softmax'))\n",
    "sgd = SGD(lr=0.01) \n",
    "model2.compile(loss='categorical_crossentropy', optimizer=sgd, metrics=['accuracy'])\n",
    "model2.fit(X_train_nor, y_train, batch_size=16, nb_epoch=40, verbose=0)\n",
    "scores = model2.evaluate(X_test_nor, y_test);\n",
    "print(' test set, loss: ', scores[0], ' , acc:', scores[1])"
   ]
  },
  {
   "cell_type": "markdown",
   "metadata": {},
   "source": [
    "## 3. Prediction\n",
    "\n",
    "**model.predict(X)** gives the probability of each class, and **model.predict_classes(X)** directly gives the class. The highest probability identifies the class which the image is."
   ]
  },
  {
   "cell_type": "code",
   "execution_count": 43,
   "metadata": {
    "collapsed": false
   },
   "outputs": [
    {
     "name": "stdout",
     "output_type": "stream",
     "text": [
      "10000/10000 [==============================] - 1s     \n",
      "[7 2 1 0 4 1 4 9]\n"
     ]
    }
   ],
   "source": [
    "predictions = model2.predict_classes(X_test_std)\n",
    "print (predictions[:8])"
   ]
  },
  {
   "cell_type": "code",
   "execution_count": 44,
   "metadata": {
    "collapsed": false
   },
   "outputs": [
    {
     "data": {
      "image/png": "[encoded data removed]",
      "text/plain": [
       "<matplotlib.figure.Figure at 0x112eb6898>"
      ]
     },
     "metadata": {},
     "output_type": "display_data"
    }
   ],
   "source": [
    "plotExamples(X_test_std, y_test)"
   ]
  },
  {
   "cell_type": "markdown",
   "metadata": {},
   "source": [
    "## Summary\n",
    "\n",
    "### Before training models, preprocessed (standardized/normalized) data makes learning process more efficient and provides more accurate results."
   ]
  },
  {
   "cell_type": "code",
   "execution_count": null,
   "metadata": {
    "collapsed": true
   },
   "outputs": [],
   "source": []
  }
 ],
 "metadata": {
  "kernelspec": {
   "display_name": "Python 3",
   "language": "python",
   "name": "python3"
  },
  "language_info": {
   "codemirror_mode": {
    "name": "ipython",
    "version": 3
   },
   "file_extension": ".py",
   "mimetype": "text/x-python",
   "name": "python",
   "nbconvert_exporter": "python",
   "pygments_lexer": "ipython3",
   "version": "3.5.2"
  }
 },
 "nbformat": 4,
 "nbformat_minor": 0
}
